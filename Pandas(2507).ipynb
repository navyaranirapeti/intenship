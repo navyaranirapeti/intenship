{
 "cells": [
  {
   "cell_type": "markdown",
   "metadata": {},
   "source": [
    "# Boolean Indexing in Pandas\n",
    "#### To select we uses actual data but not with labels and indexes\n",
    "* Accessing a DataFrame with a boolean index\n",
    "* Applying a boolean mask to a dataframe\n",
    "* Masking data based on column value\n",
    "* Masking data based on index value"
   ]
  },
  {
   "cell_type": "code",
   "execution_count": 19,
   "metadata": {},
   "outputs": [
    {
     "name": "stdout",
     "output_type": "stream",
     "text": [
      "\n",
      "    Rollnum  Marks  Course Address Phonenum    Color\n",
      "0        1     25     MBA     HYD       a1      Red\n",
      "1        2     24    MBBS     AKP       a2     Pink\n",
      "2        3     23   BTECH     VZI       a3   Yellow\n",
      "3        4     22   MTECH     VSK       a4    Green\n",
      "4        5     21  DEGREE     GNT       a5    Black\n",
      "5        6     24     IAS     ASD       a6     Blue\n",
      "6        7     22     IPS     FGH       a7   Orange\n",
      "7        8     23    AERO     KLJ       a8  Skyblue\n",
      "8        9     20     CSE     OPU       a9    White\n",
      "9       10     25     ECE     RTY       b1     Grey\n"
     ]
    }
   ],
   "source": [
    "import pandas as pd\n",
    "dict1={'Rollnum':[1,2,3,4,5,6,7,8,9,10],\n",
    "       'Marks':[25,24,23,22,21,24,22,23,20,25],\n",
    "       'Course':['MBA','MBBS','BTECH','MTECH','DEGREE','IAS','IPS','AERO','CSE','ECE'],\n",
    "       'Address':['HYD','AKP','VZI','VSK','GNT','ASD','FGH','KLJ','OPU','RTY'],\n",
    "       'Phonenum':['a1','a2','a3','a4','a5','a6','a7','a8','a9','b1']}\n",
    "d1=pd.DataFrame(dict1)\n",
    "#print(d4[['Course','Marks']])#calling those columns\n",
    "colors=['Red','Pink','Yellow','Green','Black','Blue','Orange','Skyblue','White','Grey']\n",
    "d1['Color']=colors\n",
    "print('\\n',d1)"
   ]
  },
  {
   "cell_type": "markdown",
   "metadata": {},
   "source": [
    "### Accessing a DataFrame with a boolean index"
   ]
  },
  {
   "cell_type": "code",
   "execution_count": 18,
   "metadata": {},
   "outputs": [
    {
     "name": "stdout",
     "output_type": "stream",
     "text": [
      "         name  degree  score\n",
      "True   aparna     MBA     90\n",
      "False  pankaj     BCA     40\n",
      "True   sudhir  M.Tech     80\n",
      "False   Geeku     MBA     98\n"
     ]
    }
   ],
   "source": [
    "dict2 = {'name':[\"aparna\", \"pankaj\", \"sudhir\", \"Geeku\"], \n",
    "        'degree': [\"MBA\", \"BCA\", \"M.Tech\", \"MBA\"], \n",
    "        'score':[90, 40, 80, 98]} \n",
    "   \n",
    "d2 = pd.DataFrame(dict2, index = [True, False, True, False]) \n",
    "   \n",
    "print(d2)"
   ]
  },
  {
   "cell_type": "code",
   "execution_count": 45,
   "metadata": {},
   "outputs": [
    {
     "name": "stdout",
     "output_type": "stream",
     "text": [
      "        name  degree  score\n",
      "True  aparna     MBA     90\n",
      "True  sudhir  M.Tech     80\n",
      "\n",
      " name      pankaj\n",
      "degree       BCA\n",
      "score         40\n",
      "dtype: object\n",
      "\n",
      "          name degree  score\n",
      "False  pankaj    BCA     40\n",
      "False   Geeku    MBA     98\n"
     ]
    },
    {
     "name": "stderr",
     "output_type": "stream",
     "text": [
      "C:\\Users\\RAPETI\\Anaconda3\\lib\\site-packages\\ipykernel_launcher.py:6: DeprecationWarning: \n",
      ".ix is deprecated. Please use\n",
      ".loc for label based indexing or\n",
      ".iloc for positional indexing\n",
      "\n",
      "See the documentation here:\n",
      "http://pandas.pydata.org/pandas-docs/stable/indexing.html#ix-indexer-is-deprecated\n",
      "  \n"
     ]
    }
   ],
   "source": [
    "# acessing data with boolean loc[]\n",
    "print(d2.loc[True])\n",
    "# acessing data with .iloc[] is normal\n",
    "print('\\n',d2.iloc[1])\n",
    "# accessing data with .ix[] with boolean value\n",
    "print('\\n',d2.ix[False])"
   ]
  },
  {
   "cell_type": "markdown",
   "metadata": {},
   "source": [
    "## Appying a boolean mask to a DF"
   ]
  },
  {
   "cell_type": "code",
   "execution_count": 11,
   "metadata": {},
   "outputs": [
    {
     "name": "stdout",
     "output_type": "stream",
     "text": [
      "        name  degree  score\n",
      "True  aparna     MBA     90\n",
      "True  sudhir  M.Tech     80\n"
     ]
    }
   ],
   "source": [
    "print(d2[[True, False, True, False]]) \n"
   ]
  },
  {
   "cell_type": "code",
   "execution_count": 24,
   "metadata": {},
   "outputs": [
    {
     "data": {
      "text/html": [
       "<div>\n",
       "<style scoped>\n",
       "    .dataframe tbody tr th:only-of-type {\n",
       "        vertical-align: middle;\n",
       "    }\n",
       "\n",
       "    .dataframe tbody tr th {\n",
       "        vertical-align: top;\n",
       "    }\n",
       "\n",
       "    .dataframe thead th {\n",
       "        text-align: right;\n",
       "    }\n",
       "</style>\n",
       "<table border=\"1\" class=\"dataframe\">\n",
       "  <thead>\n",
       "    <tr style=\"text-align: right;\">\n",
       "      <th></th>\n",
       "      <th>Rollnum</th>\n",
       "      <th>Marks</th>\n",
       "      <th>Course</th>\n",
       "      <th>Address</th>\n",
       "      <th>Phonenum</th>\n",
       "    </tr>\n",
       "  </thead>\n",
       "  <tbody>\n",
       "    <tr>\n",
       "      <th>0</th>\n",
       "      <td>1</td>\n",
       "      <td>25</td>\n",
       "      <td>MBA</td>\n",
       "      <td>HYD</td>\n",
       "      <td>a1</td>\n",
       "    </tr>\n",
       "    <tr>\n",
       "      <th>2</th>\n",
       "      <td>3</td>\n",
       "      <td>23</td>\n",
       "      <td>BTECH</td>\n",
       "      <td>VZI</td>\n",
       "      <td>a3</td>\n",
       "    </tr>\n",
       "    <tr>\n",
       "      <th>4</th>\n",
       "      <td>5</td>\n",
       "      <td>21</td>\n",
       "      <td>DEGREE</td>\n",
       "      <td>GNT</td>\n",
       "      <td>a5</td>\n",
       "    </tr>\n",
       "    <tr>\n",
       "      <th>6</th>\n",
       "      <td>7</td>\n",
       "      <td>22</td>\n",
       "      <td>IPS</td>\n",
       "      <td>FGH</td>\n",
       "      <td>a7</td>\n",
       "    </tr>\n",
       "    <tr>\n",
       "      <th>8</th>\n",
       "      <td>9</td>\n",
       "      <td>20</td>\n",
       "      <td>CSE</td>\n",
       "      <td>OPU</td>\n",
       "      <td>a9</td>\n",
       "    </tr>\n",
       "  </tbody>\n",
       "</table>\n",
       "</div>"
      ],
      "text/plain": [
       "   Rollnum  Marks  Course Address Phonenum\n",
       "0        1     25     MBA     HYD       a1\n",
       "2        3     23   BTECH     VZI       a3\n",
       "4        5     21  DEGREE     GNT       a5\n",
       "6        7     22     IPS     FGH       a7\n",
       "8        9     20     CSE     OPU       a9"
      ]
     },
     "execution_count": 24,
     "metadata": {},
     "output_type": "execute_result"
    }
   ],
   "source": [
    "d1=pd.DataFrame(dict1,index=[0,1,2,3,4,5,6,7,8,9])\n",
    "d1\n",
    "d1[[True, False, True, False, True, \n",
    "    False, True, False, True, False]]#we get only True values"
   ]
  },
  {
   "cell_type": "markdown",
   "metadata": {},
   "source": [
    "### Masking data based on column value"
   ]
  },
  {
   "cell_type": "code",
   "execution_count": 47,
   "metadata": {},
   "outputs": [
    {
     "name": "stdout",
     "output_type": "stream",
     "text": [
      "0     True\n",
      "1    False\n",
      "2    False\n",
      "3    False\n",
      "4    False\n",
      "5    False\n",
      "6    False\n",
      "7    False\n",
      "8    False\n",
      "9    False\n",
      "Name: Course, dtype: bool\n",
      "0     True\n",
      "1    False\n",
      "2    False\n",
      "3    False\n",
      "4    False\n",
      "5    False\n",
      "6    False\n",
      "7    False\n",
      "8    False\n",
      "9     True\n",
      "Name: Marks, dtype: bool\n"
     ]
    }
   ],
   "source": [
    "print(d1['Course']=='MBA')\n",
    "print(d1['Marks']==25)"
   ]
  },
  {
   "cell_type": "code",
   "execution_count": 35,
   "metadata": {},
   "outputs": [
    {
     "data": {
      "text/plain": [
       "0     True\n",
       "1     True\n",
       "2     True\n",
       "3     True\n",
       "4     True\n",
       "5     True\n",
       "6     True\n",
       "7     True\n",
       "8    False\n",
       "9     True\n",
       "Name: Marks, dtype: bool"
      ]
     },
     "execution_count": 35,
     "metadata": {},
     "output_type": "execute_result"
    }
   ],
   "source": [
    "d1['Marks']>20"
   ]
  },
  {
   "cell_type": "markdown",
   "metadata": {},
   "source": [
    "### Masking data based on index value "
   ]
  },
  {
   "cell_type": "code",
   "execution_count": 41,
   "metadata": {},
   "outputs": [
    {
     "name": "stdout",
     "output_type": "stream",
     "text": [
      "   Rollnum  Marks Course Address Phonenum\n",
      "8        9     20    CSE     OPU       a9\n",
      "[False False False False False False False False  True False]\n"
     ]
    }
   ],
   "source": [
    "m=d1.index==8\n",
    "print(d1[m])\n",
    "print(m)"
   ]
  },
  {
   "cell_type": "code",
   "execution_count": 44,
   "metadata": {},
   "outputs": [
    {
     "name": "stdout",
     "output_type": "stream",
     "text": [
      "   Rollnum  Marks Course Address Phonenum\n",
      "7        8     23   AERO     KLJ       a8\n",
      "8        9     20    CSE     OPU       a9\n",
      "9       10     25    ECE     RTY       b1\n"
     ]
    }
   ],
   "source": [
    "m1=d1.index >6\n",
    "print(d1[m1])"
   ]
  },
  {
   "cell_type": "markdown",
   "metadata": {},
   "source": [
    "# Conversion Functions in Pandas DataFrame"
   ]
  }
 ],
 "metadata": {
  "kernelspec": {
   "display_name": "Python 3",
   "language": "python",
   "name": "python3"
  },
  "language_info": {
   "codemirror_mode": {
    "name": "ipython",
    "version": 3
   },
   "file_extension": ".py",
   "mimetype": "text/x-python",
   "name": "python",
   "nbconvert_exporter": "python",
   "pygments_lexer": "ipython3",
   "version": "3.7.3"
  }
 },
 "nbformat": 4,
 "nbformat_minor": 2
}
