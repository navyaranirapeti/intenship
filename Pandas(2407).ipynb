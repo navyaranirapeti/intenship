{
 "cells": [
  {
   "cell_type": "code",
   "execution_count": 141,
   "metadata": {},
   "outputs": [
    {
     "data": {
      "text/html": [
       "<div>\n",
       "<style scoped>\n",
       "    .dataframe tbody tr th:only-of-type {\n",
       "        vertical-align: middle;\n",
       "    }\n",
       "\n",
       "    .dataframe tbody tr th {\n",
       "        vertical-align: top;\n",
       "    }\n",
       "\n",
       "    .dataframe thead th {\n",
       "        text-align: right;\n",
       "    }\n",
       "</style>\n",
       "<table border=\"1\" class=\"dataframe\">\n",
       "  <thead>\n",
       "    <tr style=\"text-align: right;\">\n",
       "      <th></th>\n",
       "    </tr>\n",
       "  </thead>\n",
       "  <tbody>\n",
       "  </tbody>\n",
       "</table>\n",
       "</div>"
      ],
      "text/plain": [
       "Empty DataFrame\n",
       "Columns: []\n",
       "Index: []"
      ]
     },
     "execution_count": 141,
     "metadata": {},
     "output_type": "execute_result"
    }
   ],
   "source": [
    "# creating a empty dataframe\n",
    "import pandas as pd\n",
    "df=pd.DataFrame()# dataframe is a constructor\n",
    "df"
   ]
  },
  {
   "cell_type": "code",
   "execution_count": 47,
   "metadata": {},
   "outputs": [
    {
     "name": "stdout",
     "output_type": "stream",
     "text": [
      "         0\n",
      "0    Navya\n",
      "1  Krishna\n",
      "2  Bhavani\n",
      "3  Lohitha\n",
      "4   Manasa\n"
     ]
    }
   ],
   "source": [
    "#creating dataframe using lists\n",
    "lst=['Navya','Krishna','Bhavani','Lohitha','Manasa']\n",
    "d1=pd.DataFrame(lst)\n",
    "print(d1)"
   ]
  },
  {
   "cell_type": "code",
   "execution_count": 50,
   "metadata": {},
   "outputs": [
    {
     "name": "stdout",
     "output_type": "stream",
     "text": [
      "      Name  Age\n",
      "0    Navya    4\n",
      "1  Krishna    5\n",
      "2  Bhavani    8\n",
      "3  Lohitha    9\n",
      "4   Manasa    3\n"
     ]
    }
   ],
   "source": [
    "#creating dataframe using narray/list\n",
    "data={'Name':['Navya','Krishna','Bhavani','Lohitha','Manasa'],'Age':[4,5,8,9,3]}\n",
    "d5=pd.DataFrame(data)\n",
    "print(d5)"
   ]
  },
  {
   "cell_type": "code",
   "execution_count": 131,
   "metadata": {},
   "outputs": [
    {
     "name": "stdout",
     "output_type": "stream",
     "text": [
      "   Rollnum  Marks  Course Address\n",
      "0        1     25     MBA     HYD\n",
      "1        2     24    MBBS     AKP\n",
      "2        3     23   BTECH     VZI\n",
      "3        4     22   MTECH     VSK\n",
      "4        5     21  DEGREE     GNT\n",
      "   Course  Marks\n",
      "0     MBA     25\n",
      "1    MBBS     24\n",
      "2   BTECH     23\n",
      "3   MTECH     22\n",
      "4  DEGREE     21\n",
      "\n",
      "    Rollnum  Marks  Course Address   Color\n",
      "0        1     25     MBA     HYD     Red\n",
      "1        2     24    MBBS     AKP    Pink\n",
      "2        3     23   BTECH     VZI  Yellow\n",
      "3        4     22   MTECH     VSK   Green\n",
      "4        5     21  DEGREE     GNT   Black\n"
     ]
    }
   ],
   "source": [
    "#creating dataframe using dictonary\n",
    "dict1={'Rollnum':[1,2,3,4,5],\n",
    "       'Marks':[25,24,23,22,21],\n",
    "       'Course':['MBA','MBBS','BTECH','MTECH','DEGREE'],\n",
    "       'Address':['HYD','AKP','VZI','VSK','GNT']}\n",
    "d3=pd.DataFrame(dict1)\n",
    "print(d3)\n",
    "print(d3[['Course','Marks']])#calling those columns\n",
    "colors=['Red','Pink','Yellow','Green','Black']\n",
    "d3['Color']=colors\n",
    "print('\\n',d3)#adding a column"
   ]
  },
  {
   "cell_type": "code",
   "execution_count": 111,
   "metadata": {},
   "outputs": [
    {
     "name": "stdout",
     "output_type": "stream",
     "text": [
      "Rollnum       2\n",
      "Marks        24\n",
      "Course     MBBS\n",
      "Address     AKP\n",
      "Color      Pink\n",
      "Name: 1, dtype: object\n"
     ]
    }
   ],
   "source": [
    "f1=d3.loc[1]\n",
    "print(f1)"
   ]
  },
  {
   "cell_type": "code",
   "execution_count": 124,
   "metadata": {},
   "outputs": [
    {
     "name": "stdout",
     "output_type": "stream",
     "text": [
      "None\n",
      "         Rollnum  Marks  Course   Color\n",
      "Address                                \n",
      "HYD            1     25     MBA     Red\n",
      "AKP            2     24    MBBS    Pink\n",
      "VZI            3     23   BTECH  Yellow\n",
      "VSK            4     22   MTECH   Green\n",
      "GNT            5     21  DEGREE   Black\n"
     ]
    }
   ],
   "source": [
    "ind=d3.set_index('Address',inplace = True)\n",
    "print(ind)\n",
    "#print(d3.set_index('Rollnum'))\n",
    "#d3\n",
    "print(d3)"
   ]
  },
  {
   "cell_type": "code",
   "execution_count": 113,
   "metadata": {},
   "outputs": [
    {
     "name": "stdout",
     "output_type": "stream",
     "text": [
      "Rollnum      1\n",
      "Marks       25\n",
      "Course     MBA\n",
      "Color      Red\n",
      "Name: HYD, dtype: object\n"
     ]
    }
   ],
   "source": [
    "k1=d3.loc['HYD']\n",
    "print(k1)"
   ]
  },
  {
   "cell_type": "code",
   "execution_count": 132,
   "metadata": {},
   "outputs": [
    {
     "name": "stdout",
     "output_type": "stream",
     "text": [
      "   Rollnum  Marks  Course Address   Color\n",
      "0        1     25     MBA     HYD     Red\n",
      "1        2     24    MBBS     AKP    Pink\n",
      "2        3     23   BTECH     VZI  Yellow\n",
      "3        4     22   MTECH     VSK   Green\n",
      "4        5     21  DEGREE     GNT   Black\n",
      "  Address   Color  Course  Marks  Rollnum\n",
      "0     JZP  Purple     MCA     26        6\n",
      "1     HYD     Red     MBA     25        1\n",
      "2     AKP    Pink    MBBS     24        2\n",
      "3     VZI  Yellow   BTECH     23        3\n",
      "4     VSK   Green   MTECH     22        4\n",
      "5     GNT   Black  DEGREE     21        5\n"
     ]
    },
    {
     "name": "stderr",
     "output_type": "stream",
     "text": [
      "C:\\Users\\RAPETI\\Anaconda3\\lib\\site-packages\\ipykernel_launcher.py:3: FutureWarning: Sorting because non-concatenation axis is not aligned. A future version\n",
      "of pandas will change to not sort by default.\n",
      "\n",
      "To accept the future behavior, pass 'sort=False'.\n",
      "\n",
      "To retain the current behavior and silence the warning, pass 'sort=True'.\n",
      "\n",
      "  This is separate from the ipykernel package so we can avoid doing imports until\n"
     ]
    }
   ],
   "source": [
    "print(d3)\n",
    "rr=pd.DataFrame({'Rollnum':6,'Marks':26,'Course':'MCA','Color':'Purple','Address':'JZP'},index=[6])\n",
    "d3=pd.concat([rr,d3]).reset_index(drop=True)\n",
    "print(d3)"
   ]
  },
  {
   "cell_type": "code",
   "execution_count": 133,
   "metadata": {},
   "outputs": [
    {
     "name": "stdout",
     "output_type": "stream",
     "text": [
      "  Address   Color  Course  Marks  Rollnum\n",
      "0     JZP  Purple     MCA     26        6\n",
      "1     HYD     Red     MBA     25        1\n",
      "2     AKP    Pink    MBBS     24        2\n",
      "3     VZI  Yellow   BTECH     23        3\n",
      "4     VSK   Green   MTECH     22        4\n",
      "5     GNT   Black  DEGREE     21        5\n",
      "\n",
      "   Address   Color  Course  Marks  Rollnum\n",
      "0     PVC   White     IAS     27        7\n",
      "1     JZP  Purple     MCA     26        6\n",
      "2     HYD     Red     MBA     25        1\n",
      "3     AKP    Pink    MBBS     24        2\n",
      "4     VZI  Yellow   BTECH     23        3\n",
      "5     VSK   Green   MTECH     22        4\n",
      "6     GNT   Black  DEGREE     21        5\n"
     ]
    }
   ],
   "source": [
    "print(d3)\n",
    "rk=pd.DataFrame({'Address':'PVC','Color':\"White\",'Course':'IAS','Marks':27,'Rollnum':7},index=[7])\n",
    "d3=pd.concat([rk,d3]).reset_index(drop=True)\n",
    "print('\\n',d3)"
   ]
  },
  {
   "cell_type": "code",
   "execution_count": 138,
   "metadata": {},
   "outputs": [
    {
     "name": "stdout",
     "output_type": "stream",
     "text": [
      "  Address   Color Course  Marks  Rollnum\n",
      "0     PVC   White    IAS     27        7\n",
      "1     JZP  Purple    MCA     26        6\n",
      "2     HYD     Red    MBA     25        1\n",
      "3     AKP    Pink   MBBS     24        2\n",
      "4     VZI  Yellow  BTECH     23        3\n",
      "\n",
      "   Address   Color Course  Marks  Rollnum\n",
      "0     PVC   White    IAS     27        7\n",
      "1     JZP  Purple    MCA     26        6\n",
      "2     HYD     Red    MBA     25        1\n",
      "\n",
      "   Address   Color Course  Marks  Rollnum\n",
      "1     JZP  Purple    MCA     26        6\n",
      "2     HYD     Red    MBA     25        1\n",
      "3     AKP    Pink   MBBS     24        2\n",
      "4     VZI  Yellow  BTECH     23        3\n",
      "5     VSK   Green  MTECH     22        4\n",
      "\n",
      "   Address   Color Course  Marks  Rollnum\n",
      "3     AKP    Pink   MBBS     24        2\n",
      "4     VZI  Yellow  BTECH     23        3\n",
      "5     VSK   Green  MTECH     22        4\n"
     ]
    }
   ],
   "source": [
    "print(d3.head())\n",
    "print('\\n',d3.head(3))\n",
    "print('\\n',d3.tail())\n",
    "print('\\n',d3.tail(3))"
   ]
  },
  {
   "cell_type": "code",
   "execution_count": 140,
   "metadata": {},
   "outputs": [
    {
     "name": "stdout",
     "output_type": "stream",
     "text": [
      "None\n",
      "  Address   Color Course  Marks  Rollnum\n",
      "0     PVC   White    IAS     27        7\n",
      "1     JZP  Purple    MCA     26        6\n",
      "2     HYD     Red    MBA     25        1\n",
      "3     AKP    Pink   MBBS     24        2\n",
      "4     VZI  Yellow  BTECH     23        3\n"
     ]
    }
   ],
   "source": [
    "ff=d3.drop([5],inplace=True)\n",
    "print(ff)\n",
    "print(d3)"
   ]
  },
  {
   "cell_type": "code",
   "execution_count": 40,
   "metadata": {},
   "outputs": [
    {
     "name": "stdout",
     "output_type": "stream",
     "text": [
      "   Rollnum  Marks  Course Address Phonenum\n",
      "0        1     25     MBA     HYD       a1\n",
      "1        2     24    MBBS     AKP       a2\n",
      "2        3     23   BTECH     VZI       a3\n",
      "3        4     22   MTECH     VSK       a4\n",
      "4        5     21  DEGREE     GNT       a5\n",
      "5        6     24     IAS     ASD       a6\n",
      "6        7     22     IPS     FGH       a7\n",
      "7        8     23    AERO     KLJ       a8\n",
      "8        9     20     CSE     OPU       a9\n",
      "9       10     25     ECE     RTY       b1\n",
      "   Course  Marks\n",
      "0     MBA     25\n",
      "1    MBBS     24\n",
      "2   BTECH     23\n",
      "3   MTECH     22\n",
      "4  DEGREE     21\n",
      "5     IAS     24\n",
      "6     IPS     22\n",
      "7    AERO     23\n",
      "8     CSE     20\n",
      "9     ECE     25\n",
      "\n",
      "    Rollnum  Marks  Course Address Phonenum    Color\n",
      "0        1     25     MBA     HYD       a1      Red\n",
      "1        2     24    MBBS     AKP       a2     Pink\n",
      "2        3     23   BTECH     VZI       a3   Yellow\n",
      "3        4     22   MTECH     VSK       a4    Green\n",
      "4        5     21  DEGREE     GNT       a5    Black\n",
      "5        6     24     IAS     ASD       a6     Blue\n",
      "6        7     22     IPS     FGH       a7   Orange\n",
      "7        8     23    AERO     KLJ       a8  Skyblue\n",
      "8        9     20     CSE     OPU       a9    White\n",
      "9       10     25     ECE     RTY       b1     Grey\n"
     ]
    }
   ],
   "source": [
    "import pandas as pd\n",
    "dict2={'Rollnum':[1,2,3,4,5,6,7,8,9,10],\n",
    "       'Marks':[25,24,23,22,21,24,22,23,20,25],\n",
    "       'Course':['MBA','MBBS','BTECH','MTECH','DEGREE','IAS','IPS','AERO','CSE','ECE'],\n",
    "       'Address':['HYD','AKP','VZI','VSK','GNT','ASD','FGH','KLJ','OPU','RTY'],\n",
    "       'Phonenum':['a1','a2','a3','a4','a5','a6','a7','a8','a9','b1']}\n",
    "d4=pd.DataFrame(dict2)\n",
    "print(d4)\n",
    "print(d4[['Course','Marks']])#calling those columns\n",
    "colors=['Red','Pink','Yellow','Green','Black','Blue','Orange','Skyblue','White','Grey']\n",
    "d4['Color']=colors\n",
    "print('\\n',d4)"
   ]
  },
  {
   "cell_type": "code",
   "execution_count": 41,
   "metadata": {},
   "outputs": [
    {
     "name": "stdout",
     "output_type": "stream",
     "text": [
      "0       MBA\n",
      "1      MBBS\n",
      "2     BTECH\n",
      "3     MTECH\n",
      "4    DEGREE\n",
      "5       IAS\n",
      "6       IPS\n",
      "7      AERO\n",
      "8       CSE\n",
      "9       ECE\n",
      "Name: Course, dtype: object\n",
      "   Course    Color  Marks\n",
      "0     MBA      Red     25\n",
      "1    MBBS     Pink     24\n",
      "2   BTECH   Yellow     23\n",
      "3   MTECH    Green     22\n",
      "4  DEGREE    Black     21\n",
      "5     IAS     Blue     24\n",
      "6     IPS   Orange     22\n",
      "7    AERO  Skyblue     23\n",
      "8     CSE    White     20\n",
      "9     ECE     Grey     25\n"
     ]
    }
   ],
   "source": [
    "#using DataFrame.[] to display columns\n",
    "first=d4[\"Course\"]\n",
    "print(first)\n",
    "second=d4[['Course','Color','Marks']]\n",
    "print(second)"
   ]
  },
  {
   "cell_type": "code",
   "execution_count": 42,
   "metadata": {},
   "outputs": [
    {
     "name": "stdout",
     "output_type": "stream",
     "text": [
      "        Rollnum  Marks Address Phonenum    Color\n",
      "Course                                          \n",
      "MBA           1     25     HYD       a1      Red\n",
      "MBBS          2     24     AKP       a2     Pink\n",
      "BTECH         3     23     VZI       a3   Yellow\n",
      "MTECH         4     22     VSK       a4    Green\n",
      "DEGREE        5     21     GNT       a5    Black\n",
      "IAS           6     24     ASD       a6     Blue\n",
      "IPS           7     22     FGH       a7   Orange\n",
      "AERO          8     23     KLJ       a8  Skyblue\n",
      "CSE           9     20     OPU       a9    White\n",
      "ECE          10     25     RTY       b1     Grey\n"
     ]
    }
   ],
   "source": [
    "d4.set_index(\"Course\",inplace=True)\n",
    "print(d4)"
   ]
  },
  {
   "cell_type": "code",
   "execution_count": 43,
   "metadata": {},
   "outputs": [
    {
     "name": "stdout",
     "output_type": "stream",
     "text": [
      "Rollnum        2\n",
      "Marks         24\n",
      "Address      AKP\n",
      "Phonenum      a2\n",
      "Color       Pink\n",
      "Name: MBBS, dtype: object\n",
      "\n",
      "         Rollnum  Marks Address Phonenum  Color\n",
      "Course                                        \n",
      "CSE           9     20     OPU       a9  White\n",
      "ECE          10     25     RTY       b1   Grey\n"
     ]
    }
   ],
   "source": [
    "#using DataFrame.loc[] to display specified columns\n",
    "f2=d4.loc[\"MBBS\"]\n",
    "print(f2)\n",
    "f3=d4.loc[['CSE','ECE']]\n",
    "print('\\n',f3)"
   ]
  },
  {
   "cell_type": "code",
   "execution_count": 44,
   "metadata": {},
   "outputs": [
    {
     "data": {
      "text/html": [
       "<div>\n",
       "<style scoped>\n",
       "    .dataframe tbody tr th:only-of-type {\n",
       "        vertical-align: middle;\n",
       "    }\n",
       "\n",
       "    .dataframe tbody tr th {\n",
       "        vertical-align: top;\n",
       "    }\n",
       "\n",
       "    .dataframe thead th {\n",
       "        text-align: right;\n",
       "    }\n",
       "</style>\n",
       "<table border=\"1\" class=\"dataframe\">\n",
       "  <thead>\n",
       "    <tr style=\"text-align: right;\">\n",
       "      <th></th>\n",
       "      <th>Rollnum</th>\n",
       "      <th>Marks</th>\n",
       "      <th>Address</th>\n",
       "      <th>Phonenum</th>\n",
       "      <th>Color</th>\n",
       "    </tr>\n",
       "    <tr>\n",
       "      <th>Course</th>\n",
       "      <th></th>\n",
       "      <th></th>\n",
       "      <th></th>\n",
       "      <th></th>\n",
       "      <th></th>\n",
       "    </tr>\n",
       "  </thead>\n",
       "  <tbody>\n",
       "    <tr>\n",
       "      <th>MBA</th>\n",
       "      <td>1</td>\n",
       "      <td>25</td>\n",
       "      <td>HYD</td>\n",
       "      <td>a1</td>\n",
       "      <td>Red</td>\n",
       "    </tr>\n",
       "    <tr>\n",
       "      <th>MBBS</th>\n",
       "      <td>2</td>\n",
       "      <td>24</td>\n",
       "      <td>AKP</td>\n",
       "      <td>a2</td>\n",
       "      <td>Pink</td>\n",
       "    </tr>\n",
       "    <tr>\n",
       "      <th>BTECH</th>\n",
       "      <td>3</td>\n",
       "      <td>23</td>\n",
       "      <td>VZI</td>\n",
       "      <td>a3</td>\n",
       "      <td>Yellow</td>\n",
       "    </tr>\n",
       "    <tr>\n",
       "      <th>MTECH</th>\n",
       "      <td>4</td>\n",
       "      <td>22</td>\n",
       "      <td>VSK</td>\n",
       "      <td>a4</td>\n",
       "      <td>Green</td>\n",
       "    </tr>\n",
       "    <tr>\n",
       "      <th>DEGREE</th>\n",
       "      <td>5</td>\n",
       "      <td>21</td>\n",
       "      <td>GNT</td>\n",
       "      <td>a5</td>\n",
       "      <td>Black</td>\n",
       "    </tr>\n",
       "    <tr>\n",
       "      <th>IAS</th>\n",
       "      <td>6</td>\n",
       "      <td>24</td>\n",
       "      <td>ASD</td>\n",
       "      <td>a6</td>\n",
       "      <td>Blue</td>\n",
       "    </tr>\n",
       "    <tr>\n",
       "      <th>IPS</th>\n",
       "      <td>7</td>\n",
       "      <td>22</td>\n",
       "      <td>FGH</td>\n",
       "      <td>a7</td>\n",
       "      <td>Orange</td>\n",
       "    </tr>\n",
       "    <tr>\n",
       "      <th>AERO</th>\n",
       "      <td>8</td>\n",
       "      <td>23</td>\n",
       "      <td>KLJ</td>\n",
       "      <td>a8</td>\n",
       "      <td>Skyblue</td>\n",
       "    </tr>\n",
       "    <tr>\n",
       "      <th>CSE</th>\n",
       "      <td>9</td>\n",
       "      <td>20</td>\n",
       "      <td>OPU</td>\n",
       "      <td>a9</td>\n",
       "      <td>White</td>\n",
       "    </tr>\n",
       "    <tr>\n",
       "      <th>ECE</th>\n",
       "      <td>10</td>\n",
       "      <td>25</td>\n",
       "      <td>RTY</td>\n",
       "      <td>b1</td>\n",
       "      <td>Grey</td>\n",
       "    </tr>\n",
       "  </tbody>\n",
       "</table>\n",
       "</div>"
      ],
      "text/plain": [
       "        Rollnum  Marks Address Phonenum    Color\n",
       "Course                                          \n",
       "MBA           1     25     HYD       a1      Red\n",
       "MBBS          2     24     AKP       a2     Pink\n",
       "BTECH         3     23     VZI       a3   Yellow\n",
       "MTECH         4     22     VSK       a4    Green\n",
       "DEGREE        5     21     GNT       a5    Black\n",
       "IAS           6     24     ASD       a6     Blue\n",
       "IPS           7     22     FGH       a7   Orange\n",
       "AERO          8     23     KLJ       a8  Skyblue\n",
       "CSE           9     20     OPU       a9    White\n",
       "ECE          10     25     RTY       b1     Grey"
      ]
     },
     "execution_count": 44,
     "metadata": {},
     "output_type": "execute_result"
    }
   ],
   "source": [
    "d4"
   ]
  },
  {
   "cell_type": "code",
   "execution_count": 38,
   "metadata": {},
   "outputs": [],
   "source": [
    "#d4.loc[['MBBS', 'IAS'], 'Phonenum']"
   ]
  },
  {
   "cell_type": "code",
   "execution_count": 45,
   "metadata": {},
   "outputs": [
    {
     "data": {
      "text/html": [
       "<div>\n",
       "<style scoped>\n",
       "    .dataframe tbody tr th:only-of-type {\n",
       "        vertical-align: middle;\n",
       "    }\n",
       "\n",
       "    .dataframe tbody tr th {\n",
       "        vertical-align: top;\n",
       "    }\n",
       "\n",
       "    .dataframe thead th {\n",
       "        text-align: right;\n",
       "    }\n",
       "</style>\n",
       "<table border=\"1\" class=\"dataframe\">\n",
       "  <thead>\n",
       "    <tr style=\"text-align: right;\">\n",
       "      <th></th>\n",
       "      <th>Rollnum</th>\n",
       "      <th>Color</th>\n",
       "      <th>Phonenum</th>\n",
       "    </tr>\n",
       "    <tr>\n",
       "      <th>Course</th>\n",
       "      <th></th>\n",
       "      <th></th>\n",
       "      <th></th>\n",
       "    </tr>\n",
       "  </thead>\n",
       "  <tbody>\n",
       "    <tr>\n",
       "      <th>MBBS</th>\n",
       "      <td>2</td>\n",
       "      <td>Pink</td>\n",
       "      <td>a2</td>\n",
       "    </tr>\n",
       "    <tr>\n",
       "      <th>IAS</th>\n",
       "      <td>6</td>\n",
       "      <td>Blue</td>\n",
       "      <td>a6</td>\n",
       "    </tr>\n",
       "  </tbody>\n",
       "</table>\n",
       "</div>"
      ],
      "text/plain": [
       "        Rollnum Color Phonenum\n",
       "Course                        \n",
       "MBBS          2  Pink       a2\n",
       "IAS           6  Blue       a6"
      ]
     },
     "execution_count": 45,
     "metadata": {},
     "output_type": "execute_result"
    }
   ],
   "source": [
    "# displaying specified rows and columns using loc[]\n",
    "# Syntax::Dataframe.loc[[\"row1\", \"row2\"], [\"column1\", \"column2\", \"column3\"]]\n",
    "f4=d4.loc[['MBBS','IAS'],\n",
    "           ['Rollnum',\"Color\",'Phonenum']]\n",
    "f4"
   ]
  },
  {
   "cell_type": "code",
   "execution_count": 46,
   "metadata": {},
   "outputs": [
    {
     "data": {
      "text/html": [
       "<div>\n",
       "<style scoped>\n",
       "    .dataframe tbody tr th:only-of-type {\n",
       "        vertical-align: middle;\n",
       "    }\n",
       "\n",
       "    .dataframe tbody tr th {\n",
       "        vertical-align: top;\n",
       "    }\n",
       "\n",
       "    .dataframe thead th {\n",
       "        text-align: right;\n",
       "    }\n",
       "</style>\n",
       "<table border=\"1\" class=\"dataframe\">\n",
       "  <thead>\n",
       "    <tr style=\"text-align: right;\">\n",
       "      <th></th>\n",
       "      <th>Marks</th>\n",
       "      <th>Phonenum</th>\n",
       "    </tr>\n",
       "    <tr>\n",
       "      <th>Course</th>\n",
       "      <th></th>\n",
       "      <th></th>\n",
       "    </tr>\n",
       "  </thead>\n",
       "  <tbody>\n",
       "    <tr>\n",
       "      <th>MBA</th>\n",
       "      <td>25</td>\n",
       "      <td>a1</td>\n",
       "    </tr>\n",
       "    <tr>\n",
       "      <th>MBBS</th>\n",
       "      <td>24</td>\n",
       "      <td>a2</td>\n",
       "    </tr>\n",
       "    <tr>\n",
       "      <th>BTECH</th>\n",
       "      <td>23</td>\n",
       "      <td>a3</td>\n",
       "    </tr>\n",
       "    <tr>\n",
       "      <th>MTECH</th>\n",
       "      <td>22</td>\n",
       "      <td>a4</td>\n",
       "    </tr>\n",
       "    <tr>\n",
       "      <th>DEGREE</th>\n",
       "      <td>21</td>\n",
       "      <td>a5</td>\n",
       "    </tr>\n",
       "    <tr>\n",
       "      <th>IAS</th>\n",
       "      <td>24</td>\n",
       "      <td>a6</td>\n",
       "    </tr>\n",
       "    <tr>\n",
       "      <th>IPS</th>\n",
       "      <td>22</td>\n",
       "      <td>a7</td>\n",
       "    </tr>\n",
       "    <tr>\n",
       "      <th>AERO</th>\n",
       "      <td>23</td>\n",
       "      <td>a8</td>\n",
       "    </tr>\n",
       "    <tr>\n",
       "      <th>CSE</th>\n",
       "      <td>20</td>\n",
       "      <td>a9</td>\n",
       "    </tr>\n",
       "    <tr>\n",
       "      <th>ECE</th>\n",
       "      <td>25</td>\n",
       "      <td>b1</td>\n",
       "    </tr>\n",
       "  </tbody>\n",
       "</table>\n",
       "</div>"
      ],
      "text/plain": [
       "        Marks Phonenum\n",
       "Course                \n",
       "MBA        25       a1\n",
       "MBBS       24       a2\n",
       "BTECH      23       a3\n",
       "MTECH      22       a4\n",
       "DEGREE     21       a5\n",
       "IAS        24       a6\n",
       "IPS        22       a7\n",
       "AERO       23       a8\n",
       "CSE        20       a9\n",
       "ECE        25       b1"
      ]
     },
     "execution_count": 46,
     "metadata": {},
     "output_type": "execute_result"
    }
   ],
   "source": [
    "# selecting all rows and specified columns(slicing)\n",
    "f5=d4.loc[:,[\"Marks\",\"Phonenum\"]]\n",
    "f5# we should no call index in the column"
   ]
  },
  {
   "cell_type": "markdown",
   "metadata": {},
   "source": [
    "#### displaying data using .iloc[]\n",
    "#### difference between .loc[] and .iloc[] is with .iloc we only use integers to display data"
   ]
  },
  {
   "cell_type": "code",
   "execution_count": 60,
   "metadata": {},
   "outputs": [
    {
     "name": "stdout",
     "output_type": "stream",
     "text": [
      "\n",
      " Rollnum          7\n",
      "Marks           22\n",
      "Address        FGH\n",
      "Phonenum        a7\n",
      "Color       Orange\n",
      "Name: IPS, dtype: object\n",
      "\n",
      "         Rollnum  Marks Address Phonenum   Color\n",
      "Course                                         \n",
      "IAS           6     24     ASD       a6    Blue\n",
      "BTECH         3     23     VZI       a3  Yellow\n",
      "CSE           9     20     OPU       a9   White\n",
      "\n",
      "         Rollnum Address   Color\n",
      "Course                         \n",
      "MTECH         4     VSK   Green\n",
      "IPS           7     FGH  Orange\n",
      "\n",
      "         Rollnum  Marks Address Phonenum    Color\n",
      "Course                                          \n",
      "MBA           1     25     HYD       a1      Red\n",
      "MBBS          2     24     AKP       a2     Pink\n",
      "BTECH         3     23     VZI       a3   Yellow\n",
      "MTECH         4     22     VSK       a4    Green\n",
      "DEGREE        5     21     GNT       a5    Black\n",
      "IAS           6     24     ASD       a6     Blue\n",
      "IPS           7     22     FGH       a7   Orange\n",
      "AERO          8     23     KLJ       a8  Skyblue\n",
      "CSE           9     20     OPU       a9    White\n",
      "ECE          10     25     RTY       b1     Grey\n",
      "\n",
      "        Address    Color\n",
      "Course                 \n",
      "MBA        HYD      Red\n",
      "MBBS       AKP     Pink\n",
      "BTECH      VZI   Yellow\n",
      "MTECH      VSK    Green\n",
      "DEGREE     GNT    Black\n",
      "IAS        ASD     Blue\n",
      "IPS        FGH   Orange\n",
      "AERO       KLJ  Skyblue\n",
      "CSE        OPU    White\n",
      "ECE        RTY     Grey\n"
     ]
    }
   ],
   "source": [
    "#selecting a single row\n",
    "r1=d4.iloc[6]\n",
    "print('\\n',r1)\n",
    "#selecting multiple rows using .iloc[]\n",
    "r2=d4.iloc[[5,2,8]]\n",
    "print('\\n',r2)\n",
    "#selecting specified rows and columns using .iloc[]\n",
    "r3=d4.iloc [[3,6],[0,2,4]]\n",
    "print('\\n',r3)\n",
    "#selecting all rows and all columns using .iloc[]\n",
    "r4=d4.iloc[:,:]\n",
    "print('\\n',r4)\n",
    "#selecting some columns and all rows\n",
    "r5=d4.iloc[:,[2,4]]\n",
    "print('\\n',r5)"
   ]
  },
  {
   "cell_type": "markdown",
   "metadata": {},
   "source": [
    "### Indexing using .ix[]\n",
    "##### It is capable of taking both integer and label(i.e, as .loc[] and .iloc[]"
   ]
  },
  {
   "cell_type": "code",
   "execution_count": 61,
   "metadata": {},
   "outputs": [
    {
     "name": "stdout",
     "output_type": "stream",
     "text": [
      "\n",
      " Rollnum        6\n",
      "Marks         24\n",
      "Address      ASD\n",
      "Phonenum      a6\n",
      "Color       Blue\n",
      "Name: IAS, dtype: object\n"
     ]
    },
    {
     "name": "stderr",
     "output_type": "stream",
     "text": [
      "C:\\Users\\RAPETI\\Anaconda3\\lib\\site-packages\\ipykernel_launcher.py:2: DeprecationWarning: \n",
      ".ix is deprecated. Please use\n",
      ".loc for label based indexing or\n",
      ".iloc for positional indexing\n",
      "\n",
      "See the documentation here:\n",
      "http://pandas.pydata.org/pandas-docs/stable/indexing.html#ix-indexer-is-deprecated\n",
      "  \n"
     ]
    }
   ],
   "source": [
    "# selecting a row using label,it act as .loc[]\n",
    "x1=d4.ix[\"IAS\"]\n",
    "print('\\n',x1)"
   ]
  },
  {
   "cell_type": "code",
   "execution_count": 63,
   "metadata": {},
   "outputs": [
    {
     "name": "stdout",
     "output_type": "stream",
     "text": [
      "Rollnum         4\n",
      "Marks          22\n",
      "Address       VSK\n",
      "Phonenum       a4\n",
      "Color       Green\n",
      "Name: MTECH, dtype: object\n"
     ]
    },
    {
     "name": "stderr",
     "output_type": "stream",
     "text": [
      "C:\\Users\\RAPETI\\Anaconda3\\lib\\site-packages\\ipykernel_launcher.py:2: DeprecationWarning: \n",
      ".ix is deprecated. Please use\n",
      ".loc for label based indexing or\n",
      ".iloc for positional indexing\n",
      "\n",
      "See the documentation here:\n",
      "http://pandas.pydata.org/pandas-docs/stable/indexing.html#ix-indexer-is-deprecated\n",
      "  \n"
     ]
    }
   ],
   "source": [
    "# selecting a row using integer,it acts as .iloc[]\n",
    "x2=d4.ix[3]\n",
    "print(x2)"
   ]
  },
  {
   "cell_type": "code",
   "execution_count": null,
   "metadata": {},
   "outputs": [],
   "source": []
  },
  {
   "cell_type": "code",
   "execution_count": null,
   "metadata": {},
   "outputs": [],
   "source": []
  },
  {
   "cell_type": "code",
   "execution_count": null,
   "metadata": {},
   "outputs": [],
   "source": []
  },
  {
   "cell_type": "code",
   "execution_count": null,
   "metadata": {},
   "outputs": [],
   "source": []
  },
  {
   "cell_type": "code",
   "execution_count": null,
   "metadata": {},
   "outputs": [],
   "source": []
  },
  {
   "cell_type": "code",
   "execution_count": null,
   "metadata": {},
   "outputs": [],
   "source": []
  },
  {
   "cell_type": "code",
   "execution_count": null,
   "metadata": {},
   "outputs": [],
   "source": []
  },
  {
   "cell_type": "code",
   "execution_count": null,
   "metadata": {},
   "outputs": [],
   "source": []
  },
  {
   "cell_type": "code",
   "execution_count": null,
   "metadata": {},
   "outputs": [],
   "source": []
  },
  {
   "cell_type": "code",
   "execution_count": null,
   "metadata": {},
   "outputs": [],
   "source": []
  },
  {
   "cell_type": "code",
   "execution_count": null,
   "metadata": {},
   "outputs": [],
   "source": []
  },
  {
   "cell_type": "code",
   "execution_count": null,
   "metadata": {},
   "outputs": [],
   "source": []
  },
  {
   "cell_type": "code",
   "execution_count": null,
   "metadata": {},
   "outputs": [],
   "source": []
  },
  {
   "cell_type": "code",
   "execution_count": null,
   "metadata": {},
   "outputs": [],
   "source": []
  },
  {
   "cell_type": "code",
   "execution_count": null,
   "metadata": {},
   "outputs": [],
   "source": []
  },
  {
   "cell_type": "code",
   "execution_count": null,
   "metadata": {},
   "outputs": [],
   "source": []
  },
  {
   "cell_type": "code",
   "execution_count": null,
   "metadata": {},
   "outputs": [],
   "source": []
  },
  {
   "cell_type": "markdown",
   "metadata": {},
   "source": [
    "# TODAY CLASS(24/07/2019)"
   ]
  },
  {
   "cell_type": "code",
   "execution_count": 4,
   "metadata": {},
   "outputs": [],
   "source": [
    "#pd.read_csv()\n",
    "import pandas as pd"
   ]
  },
  {
   "cell_type": "code",
   "execution_count": 5,
   "metadata": {},
   "outputs": [
    {
     "name": "stdout",
     "output_type": "stream",
     "text": [
      "      Name  Age\n",
      "0    Navya    4\n",
      "1  Krishna    5\n",
      "2  Bhavani    8\n",
      "3  Lohitha    9\n",
      "4   Manasa    3\n"
     ]
    }
   ],
   "source": [
    "data={'Name':['Navya','Krishna','Bhavani','Lohitha','Manasa'],'Age':[4,5,8,9,3]}\n",
    "d5=pd.DataFrame(data)\n",
    "print(d5)"
   ]
  },
  {
   "cell_type": "code",
   "execution_count": 6,
   "metadata": {},
   "outputs": [
    {
     "data": {
      "text/plain": [
       "0    1\n",
       "1    2\n",
       "2    3\n",
       "3    4\n",
       "Name: class, dtype: int64"
      ]
     },
     "execution_count": 6,
     "metadata": {},
     "output_type": "execute_result"
    }
   ],
   "source": [
    "Stud_class=pd.Series([1,2,3,4],name='class')\n",
    "Stud_class"
   ]
  },
  {
   "cell_type": "code",
   "execution_count": 7,
   "metadata": {},
   "outputs": [
    {
     "data": {
      "text/html": [
       "<div>\n",
       "<style scoped>\n",
       "    .dataframe tbody tr th:only-of-type {\n",
       "        vertical-align: middle;\n",
       "    }\n",
       "\n",
       "    .dataframe tbody tr th {\n",
       "        vertical-align: top;\n",
       "    }\n",
       "\n",
       "    .dataframe thead th {\n",
       "        text-align: right;\n",
       "    }\n",
       "</style>\n",
       "<table border=\"1\" class=\"dataframe\">\n",
       "  <thead>\n",
       "    <tr style=\"text-align: right;\">\n",
       "      <th></th>\n",
       "      <th>Name</th>\n",
       "      <th>Age</th>\n",
       "      <th>class</th>\n",
       "    </tr>\n",
       "  </thead>\n",
       "  <tbody>\n",
       "    <tr>\n",
       "      <th>0</th>\n",
       "      <td>Navya</td>\n",
       "      <td>4</td>\n",
       "      <td>1.0</td>\n",
       "    </tr>\n",
       "    <tr>\n",
       "      <th>1</th>\n",
       "      <td>Krishna</td>\n",
       "      <td>5</td>\n",
       "      <td>2.0</td>\n",
       "    </tr>\n",
       "    <tr>\n",
       "      <th>2</th>\n",
       "      <td>Bhavani</td>\n",
       "      <td>8</td>\n",
       "      <td>3.0</td>\n",
       "    </tr>\n",
       "    <tr>\n",
       "      <th>3</th>\n",
       "      <td>Lohitha</td>\n",
       "      <td>9</td>\n",
       "      <td>4.0</td>\n",
       "    </tr>\n",
       "    <tr>\n",
       "      <th>4</th>\n",
       "      <td>Manasa</td>\n",
       "      <td>3</td>\n",
       "      <td>NaN</td>\n",
       "    </tr>\n",
       "  </tbody>\n",
       "</table>\n",
       "</div>"
      ],
      "text/plain": [
       "      Name  Age  class\n",
       "0    Navya    4    1.0\n",
       "1  Krishna    5    2.0\n",
       "2  Bhavani    8    3.0\n",
       "3  Lohitha    9    4.0\n",
       "4   Manasa    3    NaN"
      ]
     },
     "execution_count": 7,
     "metadata": {},
     "output_type": "execute_result"
    }
   ],
   "source": [
    "pd.concat([d5,Stud_class],axis=1)"
   ]
  },
  {
   "cell_type": "code",
   "execution_count": 8,
   "metadata": {},
   "outputs": [
    {
     "data": {
      "text/html": [
       "<div>\n",
       "<style scoped>\n",
       "    .dataframe tbody tr th:only-of-type {\n",
       "        vertical-align: middle;\n",
       "    }\n",
       "\n",
       "    .dataframe tbody tr th {\n",
       "        vertical-align: top;\n",
       "    }\n",
       "\n",
       "    .dataframe thead th {\n",
       "        text-align: right;\n",
       "    }\n",
       "</style>\n",
       "<table border=\"1\" class=\"dataframe\">\n",
       "  <thead>\n",
       "    <tr style=\"text-align: right;\">\n",
       "      <th></th>\n",
       "      <th>Name</th>\n",
       "      <th>Age</th>\n",
       "      <th>class</th>\n",
       "    </tr>\n",
       "  </thead>\n",
       "  <tbody>\n",
       "    <tr>\n",
       "      <th>0</th>\n",
       "      <td>Navya</td>\n",
       "      <td>4</td>\n",
       "      <td>7</td>\n",
       "    </tr>\n",
       "    <tr>\n",
       "      <th>1</th>\n",
       "      <td>Krishna</td>\n",
       "      <td>5</td>\n",
       "      <td>8</td>\n",
       "    </tr>\n",
       "    <tr>\n",
       "      <th>2</th>\n",
       "      <td>Bhavani</td>\n",
       "      <td>8</td>\n",
       "      <td>9</td>\n",
       "    </tr>\n",
       "    <tr>\n",
       "      <th>3</th>\n",
       "      <td>Lohitha</td>\n",
       "      <td>9</td>\n",
       "      <td>4</td>\n",
       "    </tr>\n",
       "    <tr>\n",
       "      <th>4</th>\n",
       "      <td>Manasa</td>\n",
       "      <td>3</td>\n",
       "      <td>5</td>\n",
       "    </tr>\n",
       "  </tbody>\n",
       "</table>\n",
       "</div>"
      ],
      "text/plain": [
       "      Name  Age  class\n",
       "0    Navya    4      7\n",
       "1  Krishna    5      8\n",
       "2  Bhavani    8      9\n",
       "3  Lohitha    9      4\n",
       "4   Manasa    3      5"
      ]
     },
     "execution_count": 8,
     "metadata": {},
     "output_type": "execute_result"
    }
   ],
   "source": [
    "d5['class']=pd.Series([7,8,9,4,5])#adding a new column to dataframe\n",
    "d5"
   ]
  },
  {
   "cell_type": "code",
   "execution_count": 9,
   "metadata": {},
   "outputs": [
    {
     "data": {
      "text/plain": [
       "pandas.core.series.Series"
      ]
     },
     "execution_count": 9,
     "metadata": {},
     "output_type": "execute_result"
    }
   ],
   "source": [
    "type(d5.Name)#gives as series"
   ]
  },
  {
   "cell_type": "code",
   "execution_count": 10,
   "metadata": {},
   "outputs": [
    {
     "name": "stdout",
     "output_type": "stream",
     "text": [
      "Krishna\n",
      "\n",
      " Manasa\n",
      "\n",
      " Name     Krishna\n",
      "Age            5\n",
      "class          8\n",
      "Name: 1, dtype: object\n"
     ]
    }
   ],
   "source": [
    "#loc:for lables\n",
    "#iloc:for index\n",
    "print(d5.loc[1]['Name'])\n",
    "print('\\n',d5.iloc[4][0])\n",
    "print('\\n',d5.loc[1])"
   ]
  },
  {
   "cell_type": "markdown",
   "metadata": {},
   "source": [
    "# Matplotlib"
   ]
  },
  {
   "cell_type": "code",
   "execution_count": 179,
   "metadata": {},
   "outputs": [],
   "source": [
    "import matplotlib.pyplot as plt"
   ]
  },
  {
   "cell_type": "code",
   "execution_count": 181,
   "metadata": {},
   "outputs": [
    {
     "name": "stdout",
     "output_type": "stream",
     "text": [
      "[<matplotlib.lines.Line2D object at 0x000002D85664F860>]\n"
     ]
    },
    {
     "data": {
      "text/plain": [
       "Text(0.5, 1.0, 'Line Plot')"
      ]
     },
     "execution_count": 181,
     "metadata": {},
     "output_type": "execute_result"
    },
    {
     "data": {
      "image/png": "[encoded data removed]",
      "text/plain": [
       "<Figure size 432x288 with 1 Axes>"
      ]
     },
     "metadata": {
      "needs_background": "light"
     },
     "output_type": "display_data"
    }
   ],
   "source": [
    "x=[1,2,3,4]\n",
    "y=[2,4,6,8]\n",
    "plt.plot(x,y)\n",
    "print(plt.plot(x,y,marker='X',color='green',linestyle='-.'))\n",
    "plt.xlabel('X-Axis')\n",
    "plt.ylabel('y_axis')\n",
    "plt.title('Line Plot')"
   ]
  },
  {
   "cell_type": "code",
   "execution_count": 182,
   "metadata": {},
   "outputs": [
    {
     "data": {
      "text/plain": [
       "[<matplotlib.lines.Line2D at 0x2d8566dbdd8>]"
      ]
     },
     "execution_count": 182,
     "metadata": {},
     "output_type": "execute_result"
    },
    {
     "data": {
      "image/png": "[encoded data removed]",
      "text/plain": [
       "<Figure size 432x288 with 1 Axes>"
      ]
     },
     "metadata": {
      "needs_background": "light"
     },
     "output_type": "display_data"
    }
   ],
   "source": [
    "plt.plot([1,2,3,4,5,6,7],[2,3,6,7,9,0,3])"
   ]
  },
  {
   "cell_type": "code",
   "execution_count": 197,
   "metadata": {},
   "outputs": [
    {
     "data": {
      "text/plain": [
       "<matplotlib.legend.Legend at 0x2d856883240>"
      ]
     },
     "execution_count": 197,
     "metadata": {},
     "output_type": "execute_result"
    },
    {
     "data": {
      "image/png": "[encoded data removed]",
      "text/plain": [
       "<Figure size 432x288 with 1 Axes>"
      ]
     },
     "metadata": {
      "needs_background": "light"
     },
     "output_type": "display_data"
    }
   ],
   "source": [
    "marks=[56,66,84,29,44]\n",
    "division=['A','B','C','D','E']\n",
    "plt.bar(marks,division,width=4.5)\n",
    "plt.bar(marks,division,width=4.5,color='#23d4f5',label='Marks')\n",
    "plt.legend(loc=\"best\")#to fit the chat in best way"
   ]
  },
  {
   "cell_type": "code",
   "execution_count": 200,
   "metadata": {},
   "outputs": [
    {
     "data": {
      "text/plain": [
       "<BarContainer object of 5 artists>"
      ]
     },
     "execution_count": 200,
     "metadata": {},
     "output_type": "execute_result"
    },
    {
     "data": {
      "image/png": "[encoded data removed]",
      "text/plain": [
       "<Figure size 432x288 with 1 Axes>"
      ]
     },
     "metadata": {
      "needs_background": "light"
     },
     "output_type": "display_data"
    }
   ],
   "source": [
    "plt.bar(marks,division,width=4.5,color='#24d4f9')"
   ]
  },
  {
   "cell_type": "code",
   "execution_count": 191,
   "metadata": {},
   "outputs": [
    {
     "data": {
      "text/plain": [
       "<BarContainer object of 5 artists>"
      ]
     },
     "execution_count": 191,
     "metadata": {},
     "output_type": "execute_result"
    },
    {
     "data": {
      "image/png": "[encoded data removed]",
      "text/plain": [
       "<Figure size 432x288 with 1 Axes>"
      ]
     },
     "metadata": {
      "needs_background": "light"
     },
     "output_type": "display_data"
    }
   ],
   "source": [
    "plt.barh(marks,division,color='#23d4f6')"
   ]
  },
  {
   "cell_type": "code",
   "execution_count": 208,
   "metadata": {},
   "outputs": [
    {
     "data": {
      "text/plain": [
       "([<matplotlib.patches.Wedge at 0x2d856a3deb8>,\n",
       "  <matplotlib.patches.Wedge at 0x2d856a47908>,\n",
       "  <matplotlib.patches.Wedge at 0x2d856a4f2e8>,\n",
       "  <matplotlib.patches.Wedge at 0x2d856a4fc88>],\n",
       " [Text(-1.089650407578925, 1.0308549797440385, 'Python'),\n",
       "  Text(-1.1147171411108667, -1.0036960173845548, 'Java'),\n",
       "  Text(0.78964838128014, -1.2753256187898268, 'c'),\n",
       "  Text(1.2080712462145613, 0.8891365834727514, 'c++')],\n",
       " [Text(-0.43586016303157005, 0.4123419918976154, '25.9%'),\n",
       "  Text(-0.44588685644434667, -0.4014784069538219, '21.6%'),\n",
       "  Text(0.315859352512056, -0.5101302475159307, '22.7%'),\n",
       "  Text(0.4832284984858245, 0.3556546333891005, '29.8%')])"
      ]
     },
     "execution_count": 208,
     "metadata": {},
     "output_type": "execute_result"
    },
    {
     "data": {
      "image/png": "[encoded data removed]",
      "text/plain": [
       "<Figure size 432x288 with 1 Axes>"
      ]
     },
     "metadata": {},
     "output_type": "display_data"
    }
   ],
   "source": [
    "lang=['Python','Java','c','c++']\n",
    "rating=[66,55,58,76]\n",
    "plt.pie(rating,labels=lang,autopct='%1.1f%%',startangle=90,shadow=True,labeldistance=1.5)#by deafualt shadow is in False"
   ]
  }
 ],
 "metadata": {
  "kernelspec": {
   "display_name": "Python 3",
   "language": "python",
   "name": "python3"
  },
  "language_info": {
   "codemirror_mode": {
    "name": "ipython",
    "version": 3
   },
   "file_extension": ".py",
   "mimetype": "text/x-python",
   "name": "python",
   "nbconvert_exporter": "python",
   "pygments_lexer": "ipython3",
   "version": "3.7.3"
  }
 },
 "nbformat": 4,
 "nbformat_minor": 2
}
