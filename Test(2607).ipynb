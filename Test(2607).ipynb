{
 "cells": [
  {
   "cell_type": "markdown",
   "metadata": {},
   "source": [
    "# Day No: 4\n",
    "# Date: 26/07/2019"
   ]
  },
  {
   "cell_type": "code",
   "execution_count": 2,
   "metadata": {
    "scrolled": false
   },
   "outputs": [
    {
     "name": "stdout",
     "output_type": "stream",
     "text": [
      "              id                                         track_name  \\\n",
      "0      281656475                                    PAC-MAN Premium   \n",
      "1      281796108                          Evernote - stay organized   \n",
      "2      281940292    WeatherBug - Local Weather, Radar, Maps, Alerts   \n",
      "3      282614216  eBay: Best App to Buy, Sell, Save! Online Shop...   \n",
      "4      282935706                                              Bible   \n",
      "5      283619399                                   Shanghai Mahjong   \n",
      "6      283646709             PayPal - Send and request money safely   \n",
      "7      284035177                            Pandora - Music & Radio   \n",
      "8      284666222                        PCalc - The Best Calculator   \n",
      "9      284736660                                        Ms. PAC-MAN   \n",
      "10     284791396                          Solitaire by MobilityWare   \n",
      "11     284815117                                   SCRABBLE Premium   \n",
      "12     284815942               Google – Search made just for mobile   \n",
      "13     284847138                   Bank of America - Mobile Banking   \n",
      "14     284862767                                           FreeCell   \n",
      "15     284876795             TripAdvisor Hotels Flights Restaurants   \n",
      "16     284882215                                           Facebook   \n",
      "17     284910350     Yelp - Nearby Restaurants, Shopping & Services   \n",
      "18     284993459  Shazam - Discover music, artists, videos & lyrics   \n",
      "19     285005463                      Crash Bandicoot Nitro Kart 3D   \n",
      "20     285946052                                             iQuran   \n",
      "21     285994151                                        :) Sudoku +   \n",
      "22     286058814    Yahoo Sports - Teams, Scores, News & Highlights   \n",
      "23     286070473                          Mileage Log | Fahrtenbuch   \n",
      "24     286799607                        Cleartune - Chromatic Tuner   \n",
      "25     286906691          Lifesum – Inspiring healthy lifestyle app   \n",
      "26     286911400                                           Hangman.   \n",
      "27     288113403      iTranslate - Language Translator & Dictionary   \n",
      "28     288120394                                           TouchOSC   \n",
      "29     288419283                                         RadarScope   \n",
      "...          ...                                                ...   \n",
      "7167  1182265441                      脱出ゲーム　わたしをみつけて　-おじいさんとわたしの物語-   \n",
      "7168  1182331762                      Escape from the frigid Igloo.   \n",
      "7169  1182568288        Talking Santa - Video santa claus calls you   \n",
      "7170  1183234072                                          CTFxCmoji   \n",
      "7171  1183260922                    Room Escape Game - Santa's Room   \n",
      "7172  1183548754                               Rescue the Enchanter   \n",
      "7173  1183709176                                 My Diary - 你的名字非官方   \n",
      "7174  1183856228  VR Thrills: Roller Coaster 360 (Google Cardboard)   \n",
      "7175  1183986102   Santa Kids Hair Salon - Christmas Makeover Games   \n",
      "7176  1184711626                                 Human Juggling Cup   \n",
      "7177  1184800011                           Again - room escape game   \n",
      "7178  1185209084                                  Saloons Unleashed   \n",
      "7179  1185328193             Fam — Group video calling for iMessage   \n",
      "7180  1185365336                   Laurie Hernandez the Human Emoji   \n",
      "7181  1185428381                                               剑倚手游   \n",
      "7182  1185538497                                  camera for filter   \n",
      "7183  1185580782                                    Survivalcraft 2   \n",
      "7184  1185731859                                    剑客情缘-高爆率高掉落天天疯玩   \n",
      "7185  1185777521                                     问仙奇遇-新玩法新套装嗨到爆   \n",
      "7186  1186108496                 脱出ゲーム - 書道教室 -  \"漢字\"の謎に満ちた部屋からの 脱出   \n",
      "7187  1186126548                          Escape Game: illumination   \n",
      "7188  1186384912       Demolition Derby Virtual Reality (VR) Racing   \n",
      "7189  1187128255                         飞刀传奇-动作武侠热血江湖即时PK传奇（登录爆金装）   \n",
      "7190  1187279979                       Add-Ons Studio for Minecraft   \n",
      "7191  1187282363                         Plead the Fifth - The Game   \n",
      "7192  1187617475                                              Kubik   \n",
      "7193  1187682390                                  VR Roller-Coaster   \n",
      "7194  1187779532              Bret Michaels Emojis + Lyric Keyboard   \n",
      "7195  1187838770          VR Roller Coaster World - Virtual Reality   \n",
      "7196  1188375727                       Escape the Sweet Shop Series   \n",
      "\n",
      "      size_bytes currency  price  rating_count_tot  rating_count_ver  \\\n",
      "0      100788224      USD   3.99             21292                26   \n",
      "1      158578688      USD   0.00            161065                26   \n",
      "2      100524032      USD   0.00            188583              2822   \n",
      "3      128512000      USD   0.00            262241               649   \n",
      "4       92774400      USD   0.00            985920              5320   \n",
      "5       10485713      USD   0.99              8253              5516   \n",
      "6      227795968      USD   0.00            119487               879   \n",
      "7      130242560      USD   0.00           1126879              3594   \n",
      "8       49250304      USD   9.99              1117                 4   \n",
      "9       70023168      USD   3.99              7885                40   \n",
      "10      49618944      USD   4.99             76720              4017   \n",
      "11     227547136      USD   7.99            105776               166   \n",
      "12     179979264      USD   0.00            479440               203   \n",
      "13     160925696      USD   0.00            119773              2336   \n",
      "14      55153664      USD   4.99              6340               668   \n",
      "15     207907840      USD   0.00             56194                87   \n",
      "16     389879808      USD   0.00           2974676               212   \n",
      "17     167407616      USD   0.00            223885              3726   \n",
      "18     147093504      USD   0.00            402925               136   \n",
      "19      10735026      USD   2.99             31456              4178   \n",
      "20      70707916      USD   1.99              2929               966   \n",
      "21       6169600      USD   2.99             11447               781   \n",
      "22     130583552      USD   0.00            137951               131   \n",
      "23      71203840      USD   5.99                 8                 0   \n",
      "24      11423008      USD   3.99              3241               297   \n",
      "25     188017664      USD   0.00              5795                12   \n",
      "26       4765696      USD   0.00             42316               248   \n",
      "27     287933440      USD   0.00            123215                25   \n",
      "28       4263936      USD   4.99               782                 7   \n",
      "29     172772352      USD   9.99              3449                23   \n",
      "...          ...      ...    ...               ...               ...   \n",
      "7167   177498112      USD   0.00                 1                 1   \n",
      "7168    89188352      USD   0.00                 3                 3   \n",
      "7169    32685056      USD   2.99                 9                 3   \n",
      "7170    26077184      USD   0.00                39                 4   \n",
      "7171   143346688      USD   0.00                10                10   \n",
      "7172   242505728      USD   3.99                55                29   \n",
      "7173    18164736      USD   0.99                 0                 0   \n",
      "7174   169535488      USD   0.00                14                 4   \n",
      "7175    64244736      USD   0.00                41                19   \n",
      "7176   184324096      USD   0.00                 0                 0   \n",
      "7177    33946624      USD   0.00                11                 8   \n",
      "7178   327731200      USD   0.99                 0                 0   \n",
      "7179   113382400      USD   0.00               279                 5   \n",
      "7180    94008320      USD   0.00                26                 3   \n",
      "7181   178160640      USD   0.99                 0                 0   \n",
      "7182     9362432      USD   0.00                 0                 0   \n",
      "7183    57349120      USD   3.99               292               292   \n",
      "7184   171944960      USD   0.00                 0                 0   \n",
      "7185   208026624      USD   0.99                 0                 0   \n",
      "7186    85580800      USD   0.00                 1                 1   \n",
      "7187    52342784      USD   0.00                23                23   \n",
      "7188   168774656      USD   0.00                18                18   \n",
      "7189   537462784      USD   0.99                 0                 0   \n",
      "7190    22999040      USD   2.99                97                97   \n",
      "7191    27853824      USD   2.99                11                 0   \n",
      "7192   126644224      USD   0.00               142                75   \n",
      "7193   120760320      USD   0.00                30                30   \n",
      "7194   111322112      USD   1.99                15                 0   \n",
      "7195    97235968      USD   0.00                85                32   \n",
      "7196    90898432      USD   0.00                 3                 3   \n",
      "\n",
      "      user_rating  user_rating_ver       ver cont_rating        prime_genre  \\\n",
      "0             4.0              4.5     6.3.5          4+              Games   \n",
      "1             4.0              3.5     8.2.2          4+       Productivity   \n",
      "2             3.5              4.5     5.0.0          4+            Weather   \n",
      "3             4.0              4.5    5.10.0         12+           Shopping   \n",
      "4             4.5              5.0     7.5.1          4+          Reference   \n",
      "5             4.0              4.0       1.8          4+              Games   \n",
      "6             4.0              4.5    6.12.0          4+            Finance   \n",
      "7             4.0              4.5     8.4.1         12+              Music   \n",
      "8             4.5              5.0     3.6.6          4+          Utilities   \n",
      "9             4.0              4.0     4.0.4          4+              Games   \n",
      "10            4.5              4.5    4.10.1          4+              Games   \n",
      "11            3.5              2.5    5.19.0          4+              Games   \n",
      "12            3.5              4.0        27         17+          Utilities   \n",
      "13            3.5              4.5     7.3.8          4+            Finance   \n",
      "14            4.5              4.5     4.0.3          4+              Games   \n",
      "15            4.0              3.5      21.1          4+             Travel   \n",
      "16            3.5              3.5        95          4+  Social Networking   \n",
      "17            4.0              4.5   11.15.0         12+             Travel   \n",
      "18            4.0              4.5    11.0.3         12+              Music   \n",
      "19            4.0              3.5     1.0.0          4+              Games   \n",
      "20            4.5              4.5       3.3          4+          Reference   \n",
      "21            5.0              5.0     5.2.6          4+              Games   \n",
      "22            4.0              4.5       6.9          4+             Sports   \n",
      "23            4.5              0.0     9.0.5          4+           Business   \n",
      "24            4.0              4.0     2.1.3          4+              Music   \n",
      "25            3.5              4.0     8.4.1          4+   Health & Fitness   \n",
      "26            3.0              3.5     2.0.6          9+              Games   \n",
      "27            3.5              5.0    10.5.4          4+       Productivity   \n",
      "28            4.0              3.5     1.9.8          4+              Music   \n",
      "29            4.0              4.5     3.4.1          4+            Weather   \n",
      "...           ...              ...       ...         ...                ...   \n",
      "7167          1.0              1.0     1.0.1          4+              Games   \n",
      "7168          4.0              4.0     1.0.1          4+              Games   \n",
      "7169          3.0              3.5     1.0.1          4+      Entertainment   \n",
      "7170          5.0              5.0       1.3          9+  Social Networking   \n",
      "7171          5.0              5.0         1          4+              Games   \n",
      "7172          4.5              4.5       1.4          4+              Games   \n",
      "7173          0.0              0.0       1.1          4+          Utilities   \n",
      "7174          4.0              3.5     1.3.0          4+              Games   \n",
      "7175          4.5              4.5       1.3          4+              Games   \n",
      "7176          0.0              0.0     1.0.1          4+              Games   \n",
      "7177          4.0              4.0     1.1.0          4+              Games   \n",
      "7178          0.0              0.0       1.1          4+              Games   \n",
      "7179          3.5              3.0    0.6.41          4+  Social Networking   \n",
      "7180          5.0              5.0     1.0.5          9+          Utilities   \n",
      "7181          0.0              0.0         1          9+              Games   \n",
      "7182          0.0              0.0     1.0.3          4+      Photo & Video   \n",
      "7183          4.0              4.0  2.0.20.1          9+              Games   \n",
      "7184          0.0              0.0         1          9+              Games   \n",
      "7185          0.0              0.0         1          9+              Games   \n",
      "7186          2.0              2.0     1.0.1          4+              Games   \n",
      "7187          4.5              4.5         1          4+              Games   \n",
      "7188          4.0              4.0     1.0.0         12+              Games   \n",
      "7189          0.0              0.0     2.1.0          9+              Games   \n",
      "7190          3.0              3.0         1          4+              Games   \n",
      "7191          4.0              0.0     1.1.1         17+              Games   \n",
      "7192          4.5              4.5       1.3          4+              Games   \n",
      "7193          4.5              4.5       0.9          4+              Games   \n",
      "7194          4.5              0.0     1.0.2          9+          Utilities   \n",
      "7195          4.5              4.5    1.0.15         12+              Games   \n",
      "7196          5.0              5.0         1          4+              Games   \n",
      "\n",
      "      sup_devices.num  ipadSc_urls.num  lang.num  vpp_lic  \n",
      "0                  38                5        10        1  \n",
      "1                  37                5        23        1  \n",
      "2                  37                5         3        1  \n",
      "3                  37                5         9        1  \n",
      "4                  37                5        45        1  \n",
      "5                  47                5         1        1  \n",
      "6                  37                0        19        1  \n",
      "7                  37                4         1        1  \n",
      "8                  37                5         1        1  \n",
      "9                  38                0        10        1  \n",
      "10                 38                4        11        1  \n",
      "11                 37                0         6        1  \n",
      "12                 37                4        33        1  \n",
      "13                 37                0         2        1  \n",
      "14                 38                5         2        1  \n",
      "15                 37                1        26        1  \n",
      "16                 37                1        29        1  \n",
      "17                 37                5        18        1  \n",
      "18                 37                3        16        1  \n",
      "19                 47                0         1        1  \n",
      "20                 43                0         2        1  \n",
      "21                 40                5         1        1  \n",
      "22                 37                2         6        1  \n",
      "23                 37                5         3        1  \n",
      "24                 43                2        10        1  \n",
      "25                 37                5        11        1  \n",
      "26                 38                0         1        1  \n",
      "27                 37                5        23        1  \n",
      "28                 43                1         1        1  \n",
      "29                 37                5         1        1  \n",
      "...               ...              ...       ...      ...  \n",
      "7167               38                4         1        1  \n",
      "7168               38                5         1        1  \n",
      "7169               37                0        31        1  \n",
      "7170               37                1         1        1  \n",
      "7171               40                0         1        1  \n",
      "7172               40                5         1        1  \n",
      "7173               37                0         1        1  \n",
      "7174               37                5         1        1  \n",
      "7175               37                5        25        1  \n",
      "7176               40                4         1        1  \n",
      "7177               37                5         1        1  \n",
      "7178               37                5         1        1  \n",
      "7179               37                4         1        1  \n",
      "7180               37                4         1        1  \n",
      "7181               40                5         0        1  \n",
      "7182               37                0         1        1  \n",
      "7183               40                5         1        1  \n",
      "7184               40                5         0        1  \n",
      "7185               38                5         1        1  \n",
      "7186               38                5         1        1  \n",
      "7187               37                5         2        1  \n",
      "7188               38                4         1        1  \n",
      "7189               38                5         1        1  \n",
      "7190               37                5         3        1  \n",
      "7191               37                0         1        1  \n",
      "7192               38                5         1        1  \n",
      "7193               38                0         1        1  \n",
      "7194               37                1         1        1  \n",
      "7195               38                0         2        1  \n",
      "7196               40                0         2        1  \n",
      "\n",
      "[7197 rows x 16 columns]\n"
     ]
    }
   ],
   "source": [
    "import pandas as pf\n",
    "dd=pf.read_csv(r\"C:\\Users\\RAPETI\\Downloads\\AppleStore.csv\")\n",
    "print(dd)"
   ]
  },
  {
   "cell_type": "markdown",
   "metadata": {},
   "source": [
    "## Problem no: 1\n",
    "## Problem statement: Compute the total number of unique apps from the dataset"
   ]
  },
  {
   "cell_type": "code",
   "execution_count": 3,
   "metadata": {},
   "outputs": [
    {
     "name": "stdout",
     "output_type": "stream",
     "text": [
      "VR Roller Coaster\n",
      "Mannequin Challenge\n",
      "2\n",
      "7195\n"
     ]
    }
   ],
   "source": [
    "count=0\n",
    "for i in range(0,len(dd.track_name)):\n",
    "    for j in range(i+1,len(dd.track_name)):\n",
    "        if(dd.track_name[i]==dd.track_name[j]):\n",
    "            count=count+1\n",
    "            #print(count)\n",
    "            print(dd.track_name[j])\n",
    "print(count)\n",
    "print(len(dd.track_name)-count)"
   ]
  },
  {
   "cell_type": "markdown",
   "metadata": {},
   "source": [
    "# Problem NO:3\n",
    "# Categorise the dataset based on content rating into the following"
   ]
  },
  {
   "cell_type": "markdown",
   "metadata": {},
   "source": [
    "### Problem No: 3-1\n",
    "### Number of apps with content rating 4+"
   ]
  },
  {
   "cell_type": "code",
   "execution_count": 120,
   "metadata": {
    "scrolled": false
   },
   "outputs": [
    {
     "name": "stdout",
     "output_type": "stream",
     "text": [
      "4433\n"
     ]
    }
   ],
   "source": [
    "k=dd[dd.cont_rating=='4+']\n",
    "#print(k)\n",
    "count=0\n",
    "for i in (k.cont_rating=='4+'):\n",
    "    count+=1\n",
    "print(count)"
   ]
  },
  {
   "cell_type": "markdown",
   "metadata": {},
   "source": [
    "### Problem no: 3-2\n",
    "### Number of apps with content rating 9+"
   ]
  },
  {
   "cell_type": "code",
   "execution_count": 121,
   "metadata": {
    "scrolled": false
   },
   "outputs": [
    {
     "name": "stdout",
     "output_type": "stream",
     "text": [
      "987\n"
     ]
    }
   ],
   "source": [
    "l=dd[dd.cont_rating=='9+']\n",
    "#print(l)\n",
    "count=0\n",
    "for i in l.cont_rating:\n",
    "    count+=1\n",
    "print(count)"
   ]
  },
  {
   "cell_type": "markdown",
   "metadata": {},
   "source": [
    "### Problem No: 3-3\n",
    "### Number of apps with content rating 12+"
   ]
  },
  {
   "cell_type": "code",
   "execution_count": 122,
   "metadata": {},
   "outputs": [
    {
     "name": "stdout",
     "output_type": "stream",
     "text": [
      "1155\n"
     ]
    }
   ],
   "source": [
    "p=dd[dd.cont_rating=='12+']\n",
    "#print(p)\n",
    "count=0\n",
    "for i in p.cont_rating:\n",
    "    count+=1\n",
    "print(count)"
   ]
  },
  {
   "cell_type": "markdown",
   "metadata": {},
   "source": [
    "### Problem No: 3-4\n",
    "### Number of apps with content rating 17+"
   ]
  },
  {
   "cell_type": "code",
   "execution_count": 123,
   "metadata": {
    "scrolled": false
   },
   "outputs": [
    {
     "name": "stdout",
     "output_type": "stream",
     "text": [
      "622\n"
     ]
    }
   ],
   "source": [
    "h=dd[dd.cont_rating=='17+']\n",
    "#print(h)\n",
    "count=0\n",
    "for i in h.cont_rating:\n",
    "    count+=1\n",
    "print(count)"
   ]
  },
  {
   "cell_type": "markdown",
   "metadata": {},
   "source": [
    "# Problem No:2\n",
    "## Problem statement : Print the Top 10 apps along with their rating based on the number of downloads(rating_count_tot)"
   ]
  },
  {
   "cell_type": "code",
   "execution_count": 166,
   "metadata": {},
   "outputs": [
    {
     "ename": "IndexError",
     "evalue": "invalid index to scalar variable.",
     "output_type": "error",
     "traceback": [
      "\u001b[1;31m---------------------------------------------------------------------------\u001b[0m",
      "\u001b[1;31mIndexError\u001b[0m                                Traceback (most recent call last)",
      "\u001b[1;32m<ipython-input-166-159fc8251b7d>\u001b[0m in \u001b[0;36m<module>\u001b[1;34m\u001b[0m\n\u001b[0;32m      5\u001b[0m \u001b[1;32mfor\u001b[0m \u001b[0mi\u001b[0m \u001b[1;32min\u001b[0m \u001b[0mrange\u001b[0m\u001b[1;33m(\u001b[0m\u001b[1;36m0\u001b[0m\u001b[1;33m,\u001b[0m\u001b[1;36m10\u001b[0m\u001b[1;33m)\u001b[0m\u001b[1;33m:\u001b[0m\u001b[1;33m\u001b[0m\u001b[1;33m\u001b[0m\u001b[0m\n\u001b[0;32m      6\u001b[0m     \u001b[1;32mfor\u001b[0m \u001b[0mj\u001b[0m \u001b[1;32min\u001b[0m \u001b[0mrange\u001b[0m\u001b[1;33m(\u001b[0m\u001b[0mlen\u001b[0m\u001b[1;33m(\u001b[0m\u001b[0mdd\u001b[0m\u001b[1;33m)\u001b[0m\u001b[1;33m)\u001b[0m\u001b[1;33m:\u001b[0m\u001b[1;33m\u001b[0m\u001b[1;33m\u001b[0m\u001b[0m\n\u001b[1;32m----> 7\u001b[1;33m         \u001b[1;32mif\u001b[0m\u001b[1;33m(\u001b[0m\u001b[0ma\u001b[0m\u001b[1;33m[\u001b[0m\u001b[0mi\u001b[0m\u001b[1;33m]\u001b[0m\u001b[1;33m==\u001b[0m\u001b[0ma\u001b[0m\u001b[1;33m[\u001b[0m\u001b[0mj\u001b[0m\u001b[1;33m]\u001b[0m\u001b[1;33m[\u001b[0m\u001b[1;36m5\u001b[0m\u001b[1;33m]\u001b[0m\u001b[1;33m)\u001b[0m\u001b[1;33m:\u001b[0m\u001b[1;33m\u001b[0m\u001b[1;33m\u001b[0m\u001b[0m\n\u001b[0m\u001b[0;32m      8\u001b[0m             \u001b[0mprint\u001b[0m\u001b[1;33m(\u001b[0m\u001b[0ma\u001b[0m\u001b[1;33m[\u001b[0m\u001b[0mj\u001b[0m\u001b[1;33m]\u001b[0m\u001b[1;33m[\u001b[0m\u001b[1;36m1\u001b[0m\u001b[1;33m]\u001b[0m\u001b[1;33m,\u001b[0m\u001b[0ma\u001b[0m\u001b[1;33m[\u001b[0m\u001b[0mj\u001b[0m\u001b[1;33m]\u001b[0m\u001b[1;33m[\u001b[0m\u001b[1;36m5\u001b[0m\u001b[1;33m]\u001b[0m\u001b[1;33m)\u001b[0m\u001b[1;33m\u001b[0m\u001b[1;33m\u001b[0m\u001b[0m\n",
      "\u001b[1;31mIndexError\u001b[0m: invalid index to scalar variable."
     ]
    }
   ],
   "source": [
    "a=[]\n",
    "for i in range(0,len(dd)):\n",
    "    a.append(dd.loc[i][5])\n",
    "a.sort(reverse=True)\n",
    "for i in range(0,10):\n",
    "    for j in range(len(dd)):\n",
    "        if(a[i]==a[j][5]):\n",
    "            print(a[j][1],a[j][5])"
   ]
  },
  {
   "cell_type": "code",
   "execution_count": 107,
   "metadata": {},
   "outputs": [],
   "source": [
    "k=dd.sort_values('rating_count_tot',ascending=False)"
   ]
  },
  {
   "cell_type": "code",
   "execution_count": 108,
   "metadata": {
    "scrolled": true
   },
   "outputs": [
    {
     "data": {
      "text/html": [
       "<div>\n",
       "<style scoped>\n",
       "    .dataframe tbody tr th:only-of-type {\n",
       "        vertical-align: middle;\n",
       "    }\n",
       "\n",
       "    .dataframe tbody tr th {\n",
       "        vertical-align: top;\n",
       "    }\n",
       "\n",
       "    .dataframe thead th {\n",
       "        text-align: right;\n",
       "    }\n",
       "</style>\n",
       "<table border=\"1\" class=\"dataframe\">\n",
       "  <thead>\n",
       "    <tr style=\"text-align: right;\">\n",
       "      <th></th>\n",
       "      <th>id</th>\n",
       "      <th>track_name</th>\n",
       "      <th>size_bytes</th>\n",
       "      <th>currency</th>\n",
       "      <th>price</th>\n",
       "      <th>rating_count_tot</th>\n",
       "      <th>rating_count_ver</th>\n",
       "      <th>user_rating</th>\n",
       "      <th>user_rating_ver</th>\n",
       "      <th>ver</th>\n",
       "      <th>cont_rating</th>\n",
       "      <th>prime_genre</th>\n",
       "      <th>sup_devices.num</th>\n",
       "      <th>ipadSc_urls.num</th>\n",
       "      <th>lang.num</th>\n",
       "      <th>vpp_lic</th>\n",
       "    </tr>\n",
       "  </thead>\n",
       "  <tbody>\n",
       "    <tr>\n",
       "      <th>16</th>\n",
       "      <td>284882215</td>\n",
       "      <td>Facebook</td>\n",
       "      <td>389879808</td>\n",
       "      <td>USD</td>\n",
       "      <td>0.0</td>\n",
       "      <td>2974676</td>\n",
       "      <td>212</td>\n",
       "      <td>3.5</td>\n",
       "      <td>3.5</td>\n",
       "      <td>95</td>\n",
       "      <td>4+</td>\n",
       "      <td>Social Networking</td>\n",
       "      <td>37</td>\n",
       "      <td>1</td>\n",
       "      <td>29</td>\n",
       "      <td>1</td>\n",
       "    </tr>\n",
       "    <tr>\n",
       "      <th>519</th>\n",
       "      <td>389801252</td>\n",
       "      <td>Instagram</td>\n",
       "      <td>113954816</td>\n",
       "      <td>USD</td>\n",
       "      <td>0.0</td>\n",
       "      <td>2161558</td>\n",
       "      <td>1289</td>\n",
       "      <td>4.5</td>\n",
       "      <td>4.0</td>\n",
       "      <td>10.23</td>\n",
       "      <td>12+</td>\n",
       "      <td>Photo &amp; Video</td>\n",
       "      <td>37</td>\n",
       "      <td>0</td>\n",
       "      <td>29</td>\n",
       "      <td>1</td>\n",
       "    </tr>\n",
       "    <tr>\n",
       "      <th>1346</th>\n",
       "      <td>529479190</td>\n",
       "      <td>Clash of Clans</td>\n",
       "      <td>116476928</td>\n",
       "      <td>USD</td>\n",
       "      <td>0.0</td>\n",
       "      <td>2130805</td>\n",
       "      <td>579</td>\n",
       "      <td>4.5</td>\n",
       "      <td>4.5</td>\n",
       "      <td>9.24.12</td>\n",
       "      <td>9+</td>\n",
       "      <td>Games</td>\n",
       "      <td>38</td>\n",
       "      <td>5</td>\n",
       "      <td>18</td>\n",
       "      <td>1</td>\n",
       "    </tr>\n",
       "    <tr>\n",
       "      <th>707</th>\n",
       "      <td>420009108</td>\n",
       "      <td>Temple Run</td>\n",
       "      <td>65921024</td>\n",
       "      <td>USD</td>\n",
       "      <td>0.0</td>\n",
       "      <td>1724546</td>\n",
       "      <td>3842</td>\n",
       "      <td>4.5</td>\n",
       "      <td>4.0</td>\n",
       "      <td>1.6.2</td>\n",
       "      <td>9+</td>\n",
       "      <td>Games</td>\n",
       "      <td>40</td>\n",
       "      <td>5</td>\n",
       "      <td>1</td>\n",
       "      <td>1</td>\n",
       "    </tr>\n",
       "    <tr>\n",
       "      <th>7</th>\n",
       "      <td>284035177</td>\n",
       "      <td>Pandora - Music &amp; Radio</td>\n",
       "      <td>130242560</td>\n",
       "      <td>USD</td>\n",
       "      <td>0.0</td>\n",
       "      <td>1126879</td>\n",
       "      <td>3594</td>\n",
       "      <td>4.0</td>\n",
       "      <td>4.5</td>\n",
       "      <td>8.4.1</td>\n",
       "      <td>12+</td>\n",
       "      <td>Music</td>\n",
       "      <td>37</td>\n",
       "      <td>4</td>\n",
       "      <td>1</td>\n",
       "      <td>1</td>\n",
       "    </tr>\n",
       "    <tr>\n",
       "      <th>755</th>\n",
       "      <td>429047995</td>\n",
       "      <td>Pinterest</td>\n",
       "      <td>74778624</td>\n",
       "      <td>USD</td>\n",
       "      <td>0.0</td>\n",
       "      <td>1061624</td>\n",
       "      <td>1814</td>\n",
       "      <td>4.5</td>\n",
       "      <td>4.0</td>\n",
       "      <td>6.26</td>\n",
       "      <td>12+</td>\n",
       "      <td>Social Networking</td>\n",
       "      <td>37</td>\n",
       "      <td>5</td>\n",
       "      <td>27</td>\n",
       "      <td>1</td>\n",
       "    </tr>\n",
       "    <tr>\n",
       "      <th>4</th>\n",
       "      <td>282935706</td>\n",
       "      <td>Bible</td>\n",
       "      <td>92774400</td>\n",
       "      <td>USD</td>\n",
       "      <td>0.0</td>\n",
       "      <td>985920</td>\n",
       "      <td>5320</td>\n",
       "      <td>4.5</td>\n",
       "      <td>5.0</td>\n",
       "      <td>7.5.1</td>\n",
       "      <td>4+</td>\n",
       "      <td>Reference</td>\n",
       "      <td>37</td>\n",
       "      <td>5</td>\n",
       "      <td>45</td>\n",
       "      <td>1</td>\n",
       "    </tr>\n",
       "    <tr>\n",
       "      <th>1493</th>\n",
       "      <td>553834731</td>\n",
       "      <td>Candy Crush Saga</td>\n",
       "      <td>222846976</td>\n",
       "      <td>USD</td>\n",
       "      <td>0.0</td>\n",
       "      <td>961794</td>\n",
       "      <td>2453</td>\n",
       "      <td>4.5</td>\n",
       "      <td>4.5</td>\n",
       "      <td>1.101.0</td>\n",
       "      <td>4+</td>\n",
       "      <td>Games</td>\n",
       "      <td>43</td>\n",
       "      <td>5</td>\n",
       "      <td>24</td>\n",
       "      <td>1</td>\n",
       "    </tr>\n",
       "    <tr>\n",
       "      <th>178</th>\n",
       "      <td>324684580</td>\n",
       "      <td>Spotify Music</td>\n",
       "      <td>132510720</td>\n",
       "      <td>USD</td>\n",
       "      <td>0.0</td>\n",
       "      <td>878563</td>\n",
       "      <td>8253</td>\n",
       "      <td>4.5</td>\n",
       "      <td>4.5</td>\n",
       "      <td>8.4.3</td>\n",
       "      <td>12+</td>\n",
       "      <td>Music</td>\n",
       "      <td>37</td>\n",
       "      <td>5</td>\n",
       "      <td>18</td>\n",
       "      <td>1</td>\n",
       "    </tr>\n",
       "    <tr>\n",
       "      <th>275</th>\n",
       "      <td>343200656</td>\n",
       "      <td>Angry Birds</td>\n",
       "      <td>175966208</td>\n",
       "      <td>USD</td>\n",
       "      <td>0.0</td>\n",
       "      <td>824451</td>\n",
       "      <td>107</td>\n",
       "      <td>4.5</td>\n",
       "      <td>3.0</td>\n",
       "      <td>7.4.0</td>\n",
       "      <td>4+</td>\n",
       "      <td>Games</td>\n",
       "      <td>38</td>\n",
       "      <td>0</td>\n",
       "      <td>10</td>\n",
       "      <td>1</td>\n",
       "    </tr>\n",
       "  </tbody>\n",
       "</table>\n",
       "</div>"
      ],
      "text/plain": [
       "             id               track_name  size_bytes currency  price  \\\n",
       "16    284882215                 Facebook   389879808      USD    0.0   \n",
       "519   389801252                Instagram   113954816      USD    0.0   \n",
       "1346  529479190           Clash of Clans   116476928      USD    0.0   \n",
       "707   420009108               Temple Run    65921024      USD    0.0   \n",
       "7     284035177  Pandora - Music & Radio   130242560      USD    0.0   \n",
       "755   429047995                Pinterest    74778624      USD    0.0   \n",
       "4     282935706                    Bible    92774400      USD    0.0   \n",
       "1493  553834731         Candy Crush Saga   222846976      USD    0.0   \n",
       "178   324684580            Spotify Music   132510720      USD    0.0   \n",
       "275   343200656              Angry Birds   175966208      USD    0.0   \n",
       "\n",
       "      rating_count_tot  rating_count_ver  user_rating  user_rating_ver  \\\n",
       "16             2974676               212          3.5              3.5   \n",
       "519            2161558              1289          4.5              4.0   \n",
       "1346           2130805               579          4.5              4.5   \n",
       "707            1724546              3842          4.5              4.0   \n",
       "7              1126879              3594          4.0              4.5   \n",
       "755            1061624              1814          4.5              4.0   \n",
       "4               985920              5320          4.5              5.0   \n",
       "1493            961794              2453          4.5              4.5   \n",
       "178             878563              8253          4.5              4.5   \n",
       "275             824451               107          4.5              3.0   \n",
       "\n",
       "          ver cont_rating        prime_genre  sup_devices.num  \\\n",
       "16         95          4+  Social Networking               37   \n",
       "519     10.23         12+      Photo & Video               37   \n",
       "1346  9.24.12          9+              Games               38   \n",
       "707     1.6.2          9+              Games               40   \n",
       "7       8.4.1         12+              Music               37   \n",
       "755      6.26         12+  Social Networking               37   \n",
       "4       7.5.1          4+          Reference               37   \n",
       "1493  1.101.0          4+              Games               43   \n",
       "178     8.4.3         12+              Music               37   \n",
       "275     7.4.0          4+              Games               38   \n",
       "\n",
       "      ipadSc_urls.num  lang.num  vpp_lic  \n",
       "16                  1        29        1  \n",
       "519                 0        29        1  \n",
       "1346                5        18        1  \n",
       "707                 5         1        1  \n",
       "7                   4         1        1  \n",
       "755                 5        27        1  \n",
       "4                   5        45        1  \n",
       "1493                5        24        1  \n",
       "178                 5        18        1  \n",
       "275                 0        10        1  "
      ]
     },
     "execution_count": 108,
     "metadata": {},
     "output_type": "execute_result"
    }
   ],
   "source": [
    "k.head(10)"
   ]
  },
  {
   "cell_type": "markdown",
   "metadata": {},
   "source": [
    "# Problem No: 4\n",
    "## Problem Statement:Using the Matplotlib library, generate a Pie Chart to categorise student marks data in a CSV file into Distinction, First Class, Second Class, Third Class and Failed Categories(based on percentages). Explode the Distinction category.\n",
    "## 4-1:: Generate a CSV containing marks of 2000 students\n"
   ]
  },
  {
   "cell_type": "code",
   "execution_count": 148,
   "metadata": {},
   "outputs": [
    {
     "name": "stdout",
     "output_type": "stream",
     "text": [
      "    rollnum  internal1  internal2  Total  percentage\n",
      "0        A1         16          8     24          48\n",
      "1        A2          4          5      9          18\n",
      "2        A3          3          7     10          20\n",
      "3        A4         21          4     25          50\n",
      "4        A5          5          1      6          12\n",
      "5        A6         17         24     41          82\n",
      "6        A7         20          4     24          48\n",
      "7        A8          1          2      3           6\n",
      "8        A9         21          1     22          44\n",
      "9       A10         11         17     28          56\n",
      "10      A11         10         15     25          50\n",
      "11      A12          9         14     23          46\n",
      "12      A13         25          7     32          64\n",
      "13      A14         12         10     22          44\n",
      "14      A15         17         18     35          70\n",
      "15      A16          8         20     28          56\n",
      "16      A17          7         14     21          42\n",
      "17      A18          6          1      7          14\n",
      "18      A19          3          8     11          22\n",
      "19      A20          2         21     23          46\n",
      "20      A21          1         10     11          22\n",
      "21      A22          5         22     27          54\n",
      "22      A23         15          9     24          48\n",
      "23      A24         11         21     32          64\n",
      "24      A25         24         15     39          78\n",
      "25      A26         18         10     28          56\n",
      "26      A27         12         14     26          52\n",
      "27      A28         23         24     47          94\n",
      "28      A29         20          9     29          58\n",
      "29      A30         14         20     34          68\n",
      "..      ...        ...        ...    ...         ...\n",
      "370    A371          7         16     23          46\n",
      "371    A372          3          1      4           8\n",
      "372    A373          8          3     11          22\n",
      "373    A374         24         10     34          68\n",
      "374    A375          4          1      5          10\n",
      "375    A376         20         15     35          70\n",
      "376    A377         25         18     43          86\n",
      "377    A378          3          6      9          18\n",
      "378    A379         16         16     32          64\n",
      "379    A380          3         22     25          50\n",
      "380    A381         13          2     15          30\n",
      "381    A382          6          2      8          16\n",
      "382    A383          2         24     26          52\n",
      "383    A384         19          9     28          56\n",
      "384    A385         15         22     37          74\n",
      "385    A386          2          3      5          10\n",
      "386    A387         17          6     23          46\n",
      "387    A388          2         16     18          36\n",
      "388    A389          8          5     13          26\n",
      "389    A390         15          1     16          32\n",
      "390    A391         16         24     40          80\n",
      "391    A392         18          3     21          42\n",
      "392    A393         25         19     44          88\n",
      "393    A394         19          4     23          46\n",
      "394    A395         21          2     23          46\n",
      "395    A396         22         20     42          84\n",
      "396    A397         16          9     25          50\n",
      "397    A398         16         23     39          78\n",
      "398    A399         15         24     39          78\n",
      "399    A400          9          5     14          28\n",
      "\n",
      "[400 rows x 5 columns]\n"
     ]
    }
   ],
   "source": [
    "dk=pf.read_csv(r'C:\\Users\\RAPETI\\Downloads\\students.csv')\n",
    "import matplotlib.pyplot as plt\n",
    "print(dk)"
   ]
  },
  {
   "cell_type": "markdown",
   "metadata": {},
   "source": [
    "## 4-2:: From the CSV, generate the Pie Chart"
   ]
  },
  {
   "cell_type": "code",
   "execution_count": 149,
   "metadata": {},
   "outputs": [
    {
     "name": "stdout",
     "output_type": "stream",
     "text": [
      "68\n",
      "122\n",
      "167\n",
      "43\n",
      "[68, 122, 167, 43]\n"
     ]
    }
   ],
   "source": [
    "percent=[]\n",
    "fail=0\n",
    "for i in dk.percentage:\n",
    "    if(i<30):\n",
    "        fail+=1\n",
    "print(fail)\n",
    "percent.append(fail)\n",
    "third_class=0\n",
    "for i in dk.percentage:\n",
    "    if(i>=30 and i<50):\n",
    "        third_class+=1\n",
    "print(third_class)\n",
    "percent.append(third_class)\n",
    "second_class=0\n",
    "for i in dk.percentage:\n",
    "    if(i>=50 and i<80):\n",
    "        second_class+=1\n",
    "print(second_class)\n",
    "percent.append(second_class)\n",
    "first_class=0\n",
    "for i in dk.percentage:\n",
    "    if(i>=80):\n",
    "        first_class+=1\n",
    "print(first_class)\n",
    "percent.append(first_class)\n",
    "print(percent)\n",
    "standard=[fail,third_class,second_class,first_class]"
   ]
  },
  {
   "cell_type": "code",
   "execution_count": 150,
   "metadata": {},
   "outputs": [
    {
     "data": {
      "text/plain": [
       "([<matplotlib.patches.Wedge at 0x2f97580f278>,\n",
       "  <matplotlib.patches.Wedge at 0x2f97580fa58>,\n",
       "  <matplotlib.patches.Wedge at 0x2f975817208>,\n",
       "  <matplotlib.patches.Wedge at 0x2f975817978>],\n",
       " [Text(-0.7635621308785208, 1.2911130362165246, '68'),\n",
       "  Text(-1.3470413413982807, -0.6599088001867535, '122'),\n",
       "  Text(1.3719107533265769, -0.6065153624657043, '167'),\n",
       "  Text(0.49700684064427536, 1.4152682432503019, '43')],\n",
       " [Text(-0.30542485235140826, 0.5164452144866098, '17.0%'),\n",
       "  Text(-0.5388165365593123, -0.26396352007470136, '30.5%'),\n",
       "  Text(0.5487643013306307, -0.2426061449862817, '41.7%'),\n",
       "  Text(0.19880273625771014, 0.5661072973001208, '10.8%')])"
      ]
     },
     "execution_count": 150,
     "metadata": {},
     "output_type": "execute_result"
    },
    {
     "data": {
      "image/png": "[encoded data removed]",
      "text/plain": [
       "<Figure size 432x288 with 1 Axes>"
      ]
     },
     "metadata": {},
     "output_type": "display_data"
    }
   ],
   "source": [
    "plt.pie(percent,labels=standard,autopct='%1.1f%%',startangle=90,labeldistance=1.5)"
   ]
  },
  {
   "cell_type": "markdown",
   "metadata": {},
   "source": [
    "##"
   ]
  },
  {
   "cell_type": "code",
   "execution_count": 163,
   "metadata": {},
   "outputs": [
    {
     "name": "stdout",
     "output_type": "stream",
     "text": [
      "[4433, 987, 1155, 622]\n"
     ]
    }
   ],
   "source": [
    "ll=[]\n",
    "k=dd[dd.cont_rating=='4+']\n",
    "rating_four=0\n",
    "for i in (k.cont_rating=='4+'):\n",
    "    rating_four+=1\n",
    "ll.append(rating_four)\n",
    "h=dd[dd.cont_rating=='9+']\n",
    "rating_nine=0\n",
    "for i in (h.cont_rating=='9+'):\n",
    "    rating_nine+=1\n",
    "ll.append(rating_nine)\n",
    "g=dd[dd.cont_rating=='12+']\n",
    "rating_twelve=0\n",
    "for i in (g.cont_rating=='12+'):\n",
    "    rating_twelve+=1\n",
    "ll.append(rating_twelve)\n",
    "j=dd[dd.cont_rating=='17+']\n",
    "rating_seventeen=0\n",
    "for i in (j.cont_rating=='17+'):\n",
    "    rating_seventeen+=1\n",
    "ll.append(rating_seventeen)\n",
    "print(ll)\n",
    "apps_rating=['four','nine','twelve','seventeen']\n"
   ]
  },
  {
   "cell_type": "code",
   "execution_count": 165,
   "metadata": {},
   "outputs": [
    {
     "data": {
      "text/plain": [
       "([<matplotlib.patches.Wedge at 0x2f975a92da0>,\n",
       "  <matplotlib.patches.Wedge at 0x2f975a9c518>,\n",
       "  <matplotlib.patches.Wedge at 0x2f975a9cc18>,\n",
       "  <matplotlib.patches.Wedge at 0x2f975aa4358>],\n",
       " [Text(-1.4015755922691457, -0.5344023382765024, 'four'),\n",
       "  Text(1.3748339071517648, -0.5998597567313653, 'nine'),\n",
       "  Text(1.2990382695234517, 0.749999716208957, 'twelve'),\n",
       "  Text(0.4022825649751244, 1.44504973544755, 'seventeen')],\n",
       " [Text(-0.5606302369076582, -0.21376093531060097, '61.6%'),\n",
       "  Text(0.5499335628607059, -0.23994390269254612, '13.7%'),\n",
       "  Text(0.5196153078093807, 0.2999998864835828, '16.0%'),\n",
       "  Text(0.16091302599004975, 0.57801989417902, '8.6%')])"
      ]
     },
     "execution_count": 165,
     "metadata": {},
     "output_type": "execute_result"
    },
    {
     "data": {
      "image/png": "[encoded data removed]",
      "text/plain": [
       "<Figure size 432x288 with 1 Axes>"
      ]
     },
     "metadata": {},
     "output_type": "display_data"
    }
   ],
   "source": [
    "plt.pie(ll,labels=apps_rating,autopct='%1.1f%%',startangle=90,labeldistance=1.5)"
   ]
  },
  {
   "cell_type": "code",
   "execution_count": null,
   "metadata": {},
   "outputs": [],
   "source": []
  }
 ],
 "metadata": {
  "kernelspec": {
   "display_name": "Python 3",
   "language": "python",
   "name": "python3"
  },
  "language_info": {
   "codemirror_mode": {
    "name": "ipython",
    "version": 3
   },
   "file_extension": ".py",
   "mimetype": "text/x-python",
   "name": "python",
   "nbconvert_exporter": "python",
   "pygments_lexer": "ipython3",
   "version": "3.7.3"
  }
 },
 "nbformat": 4,
 "nbformat_minor": 2
}
