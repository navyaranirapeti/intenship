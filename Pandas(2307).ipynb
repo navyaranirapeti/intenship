{
 "cells": [
  {
   "cell_type": "code",
   "execution_count": 1,
   "metadata": {},
   "outputs": [
    {
     "name": "stdout",
     "output_type": "stream",
     "text": [
      " Volume in drive C is Windows\n",
      " Volume Serial Number is CCCC-8701\n",
      "\n",
      " Directory of C:\\Users\\RAPETI\\Untitled Folder\n",
      "\n",
      "23-07-2019  12:34    <DIR>          .\n",
      "23-07-2019  12:34    <DIR>          ..\n",
      "23-07-2019  12:34    <DIR>          .ipynb_checkpoints\n",
      "23-07-2019  12:34                72 Untitled.ipynb\n",
      "               1 File(s)             72 bytes\n",
      "               3 Dir(s)  94,975,946,752 bytes free\n"
     ]
    }
   ],
   "source": [
    "ls"
   ]
  },
  {
   "cell_type": "markdown",
   "metadata": {},
   "source": [
    "* The most important object defined in NumPy is an N-dimensional array type called *ndarray*."
   ]
  },
  {
   "cell_type": "code",
   "execution_count": 16,
   "metadata": {},
   "outputs": [
    {
     "name": "stdout",
     "output_type": "stream",
     "text": [
      "[1 2 3]\n",
      "[[3 4]\n",
      " [5 6]]\n",
      "[[1 2 3 4 5]]\n",
      "[1.+0.j 2.+0.j 3.+0.j] [1 2 3] [1. 2. 3.]\n"
     ]
    }
   ],
   "source": [
    "import numpy as n\n",
    "a=n.array([1,2,3])\n",
    "print(a)\n",
    "b=n.array([[3,4],[5,6]])\n",
    "print(b)\n",
    "c=n.array([1, 2, 3,4,5], ndmin=2)\n",
    "print(c)\n",
    "d=n.array([1,2,3],dtype=complex)\n",
    "e=n.array([1,2,3],dtype=int)\n",
    "f=n.array([1,2,3],dtype=float)\n",
    "print(d,e,f)\n"
   ]
  },
  {
   "cell_type": "markdown",
   "metadata": {},
   "source": [
    "* csv-common seperative value\n",
    "* head function returns first 5 records in data by default,if we specifies the value then it returns those records\n",
    "* tail function returns last 5 records\n",
    "* attribute(describing of data) will not have paranthasis but methods(work or functions) will have paranthasis \n",
    "* axis=0(for rows),axis=1(for columns) "
   ]
  },
  {
   "cell_type": "code",
   "execution_count": 53,
   "metadata": {},
   "outputs": [
    {
     "name": "stdout",
     "output_type": "stream",
     "text": [
      "  Name of  Age\n",
      "0    Alex    5\n",
      "1     Bob    8\n",
      "2    Gary   10\n",
      "3   James    6\n"
     ]
    }
   ],
   "source": [
    "import pandas as pan\n",
    "data=pan.DataFrame({'Name of':['Alex','Bob','Gary','James'],'Age':[5,8,10,6]})\n",
    "print(data)"
   ]
  },
  {
   "cell_type": "code",
   "execution_count": 54,
   "metadata": {},
   "outputs": [
    {
     "name": "stdout",
     "output_type": "stream",
     "text": [
      "RangeIndex(start=0, stop=4, step=1)\n",
      "\n",
      "Index(['Name of', 'Age'], dtype='object')\n",
      "\n",
      "(4, 2)\n",
      "\n",
      "<bound method NDFrame.head of   Name of  Age\n",
      "0    Alex    5\n",
      "1     Bob    8\n",
      "2    Gary   10\n",
      "3   James    6>\n",
      "\n",
      "  Name of  Age\n",
      "0    Alex    5\n",
      "1     Bob    8\n",
      "\n",
      "<bound method NDFrame.tail of   Name of  Age\n",
      "0    Alex    5\n",
      "1     Bob    8\n",
      "2    Gary   10\n",
      "3   James    6>\n",
      "\n",
      "  Name of  Age\n",
      "2    Gary   10\n",
      "3   James    6\n",
      "\n",
      "0     Alex\n",
      "1      Bob\n",
      "2     Gary\n",
      "3    James\n",
      "Name: Name of, dtype: object\n",
      "\n",
      "0     5\n",
      "1     8\n",
      "2    10\n",
      "3     6\n",
      "Name: Age, dtype: int64\n",
      "\n",
      "0     5\n",
      "1     8\n",
      "2    10\n",
      "3     6\n",
      "Name: Age, dtype: int64\n",
      "\n",
      "0    False\n",
      "1     True\n",
      "2    False\n",
      "3    False\n",
      "Name: Age, dtype: bool\n",
      "\n",
      "  Name of  Age\n",
      "1     Bob    8\n",
      "\n"
     ]
    }
   ],
   "source": [
    "print(data.index) # gives index\n",
    "print()\n",
    "print(data.columns) #gives columns names\n",
    "print()\n",
    "print(data.shape) # specifies the dimensons\n",
    "print()\n",
    "print(data.head)\n",
    "print()\n",
    "print(data.head(2))\n",
    "print()\n",
    "print(data.tail)\n",
    "print()\n",
    "print(data.tail(2))\n",
    "print()\n",
    "print(data['Name of'])#gives the values in columns\n",
    "print()\n",
    "print(data['Age'])#gives the values in columns\n",
    "print()\n",
    "print(data.Age)#gives the values in columns\n",
    "print()\n",
    "print(data.Age==8)\n",
    "print()\n",
    "print(data[data.Age==8])\n",
    "print()\n"
   ]
  },
  {
   "cell_type": "code",
   "execution_count": 66,
   "metadata": {},
   "outputs": [
    {
     "name": "stdout",
     "output_type": "stream",
     "text": [
      "   Age of\n",
      "0       5\n",
      "1       8\n",
      "2      10\n",
      "3       6\n",
      "\n",
      "None\n",
      "  Name of  Age of\n",
      "0    Alex       5\n",
      "1     Bob       8\n",
      "2    Gary      10\n",
      "3   James       6\n",
      "\n",
      "None\n",
      "    Name  Age of\n",
      "0   Alex       5\n",
      "1    Bob       8\n",
      "2   Gary      10\n",
      "3  James       6\n"
     ]
    }
   ],
   "source": [
    "print(data.drop('Name of',axis=1))\n",
    "print()\n",
    "print(data.rename(columns={'Age':'Age of'},inplace=True))\n",
    "print(data)\n",
    "print()\n",
    "print(data.rename(columns={'Name of':'Name'},inplace=True))\n",
    "print(data)"
   ]
  },
  {
   "cell_type": "code",
   "execution_count": 71,
   "metadata": {},
   "outputs": [
    {
     "name": "stdout",
     "output_type": "stream",
     "text": [
      "   index   Name  Age of\n",
      "0      0   Alex       5\n",
      "1      1    Bob       8\n",
      "2      2   Gary      10\n",
      "3      3  James       6\n",
      "\n",
      "   index   Name  Age of\n",
      "0      0   Alex       5\n",
      "1      1    Bob       8\n",
      "2      2   Gary      10\n",
      "3      3  James       6\n",
      "\n",
      "3    James\n",
      "2     Gary\n",
      "1      Bob\n",
      "0     Alex\n",
      "Name: Name, dtype: object\n",
      "\n",
      "None\n",
      "   level_0  index   Name  Age of\n",
      "0        0      0   Alex       5\n",
      "1        1      1    Bob       8\n",
      "2        2      2   Gary      10\n",
      "3        3      3  James       6\n"
     ]
    }
   ],
   "source": [
    "a=data.copy()\n",
    "print(a)\n",
    "print()\n",
    "data.sort_values(\"Name\",ascending=False)\n",
    "print(data)\n",
    "print()\n",
    "print(data.Name.sort_values(ascending=False))\n",
    "print()\n",
    "print(data.reset_index(inplace=True))\n",
    "print(data)"
   ]
  },
  {
   "cell_type": "code",
   "execution_count": 73,
   "metadata": {},
   "outputs": [
    {
     "data": {
      "text/html": [
       "<div>\n",
       "<style scoped>\n",
       "    .dataframe tbody tr th:only-of-type {\n",
       "        vertical-align: middle;\n",
       "    }\n",
       "\n",
       "    .dataframe tbody tr th {\n",
       "        vertical-align: top;\n",
       "    }\n",
       "\n",
       "    .dataframe thead th {\n",
       "        text-align: right;\n",
       "    }\n",
       "</style>\n",
       "<table border=\"1\" class=\"dataframe\">\n",
       "  <thead>\n",
       "    <tr style=\"text-align: right;\">\n",
       "      <th></th>\n",
       "      <th>names</th>\n",
       "      <th>MARKS</th>\n",
       "    </tr>\n",
       "  </thead>\n",
       "  <tbody>\n",
       "    <tr>\n",
       "      <th>0</th>\n",
       "      <td>AA</td>\n",
       "      <td>11</td>\n",
       "    </tr>\n",
       "    <tr>\n",
       "      <th>1</th>\n",
       "      <td>BB</td>\n",
       "      <td>13</td>\n",
       "    </tr>\n",
       "    <tr>\n",
       "      <th>2</th>\n",
       "      <td>CC</td>\n",
       "      <td>24</td>\n",
       "    </tr>\n",
       "    <tr>\n",
       "      <th>3</th>\n",
       "      <td>DD</td>\n",
       "      <td>14</td>\n",
       "    </tr>\n",
       "  </tbody>\n",
       "</table>\n",
       "</div>"
      ],
      "text/plain": [
       "  names  MARKS\n",
       "0    AA     11\n",
       "1    BB     13\n",
       "2    CC     24\n",
       "3    DD     14"
      ]
     },
     "execution_count": 73,
     "metadata": {},
     "output_type": "execute_result"
    }
   ],
   "source": [
    "import pandas as pf\n",
    "dd=pf.read_csv(r\"C:\\Users\\RAPETI\\Book2.csv\")\n",
    "dd"
   ]
  },
  {
   "cell_type": "code",
   "execution_count": null,
   "metadata": {},
   "outputs": [],
   "source": []
  }
 ],
 "metadata": {
  "kernelspec": {
   "display_name": "Python 3",
   "language": "python",
   "name": "python3"
  },
  "language_info": {
   "codemirror_mode": {
    "name": "ipython",
    "version": 3
   },
   "file_extension": ".py",
   "mimetype": "text/x-python",
   "name": "python",
   "nbconvert_exporter": "python",
   "pygments_lexer": "ipython3",
   "version": "3.7.3"
  }
 },
 "nbformat": 4,
 "nbformat_minor": 2
}
